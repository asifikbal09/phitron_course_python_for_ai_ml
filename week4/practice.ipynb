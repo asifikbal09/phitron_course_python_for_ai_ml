{
 "cells": [
  {
   "cell_type": "markdown",
   "id": "a1330f99",
   "metadata": {},
   "source": [
    "### 1. Student Marks Analyzer\n",
    "You are helping a teacher check exam results.\n",
    " Create a NumPy array with 10 random integers between 0 and 100 (student scores).\n",
    "\n",
    " Find:\n",
    " - the highest score\n",
    " - the lowest score\n",
    " - the average score\n",
    "\n",
    " Hint: use np.random.randint(), arr.max(), arr.min(), arr.mean()"
   ]
  },
  {
   "cell_type": "code",
   "execution_count": 12,
   "id": "adc9b544",
   "metadata": {},
   "outputs": [
    {
     "name": "stdout",
     "output_type": "stream",
     "text": [
      "[68 32 24 72 65 62 61 49 12 82]\n",
      "Highest score: 82\n",
      "Lowest score: 12\n",
      "Average score: 52.7\n"
     ]
    }
   ],
   "source": [
    "import numpy as np\n",
    "\n",
    "results = np.random.randint(0, 100, size=10)\n",
    "print(results)\n",
    "highest_score = np.max(results)\n",
    "print(\"Highest score:\", highest_score)\n",
    "lowest_score = np.min(results)\n",
    "print(\"Lowest score:\", lowest_score)\n",
    "avg_score = np.mean(results)\n",
    "print(\"Average score:\", avg_score)"
   ]
  },
  {
   "cell_type": "markdown",
   "id": "256fab16",
   "metadata": {},
   "source": [
    "### 2. Warehouse Weights\n",
    "A warehouse stores item weights (in kg):\n",
    " arr = np.array([45, 60, 55, 30, 90, 75, 40, 50])\n",
    "\n",
    " Find and print:\n",
    " - all items heavier than 50 kg\n",
    " - the sorted weights\n",
    " - the index of the heaviest item\n",
    "\n",
    " Hint: use arr[arr > 50], np.sort(arr), arr.argmax()"
   ]
  },
  {
   "cell_type": "code",
   "execution_count": 13,
   "id": "1e99c7bf",
   "metadata": {},
   "outputs": [
    {
     "name": "stdout",
     "output_type": "stream",
     "text": [
      "All items heavier then 50 : [60 55 90 75]\n",
      "Sorted Weight : [30 40 45 50 55 60 75 90]\n",
      "The index of heaviest item : 4\n"
     ]
    }
   ],
   "source": [
    "arr = np.array([45, 60, 55, 30, 90, 75, 40, 50])\n",
    "\n",
    "weights_over_fifty = arr[arr>50]\n",
    "print(\"All items heavier then 50 :\",weights_over_fifty)\n",
    "sorted_weight =np.sort(arr)\n",
    "heaviest_item_index = arr.argmax()\n",
    "print(\"Sorted Weight :\",sorted_weight)\n",
    "print(\"The index of heaviest item :\",heaviest_item_index)"
   ]
  },
  {
   "cell_type": "markdown",
   "id": "87fe7ba2",
   "metadata": {},
   "source": [
    "### 3. Temperature Report\n",
    "A weather station collects temperatures (°C) from 4 zones.\n",
    " Generate random integers between 20 and 40 for a 4×4 grid.\n",
    "\n",
    " Then find:\n",
    " - the average temperature of each zone (row)\n",
    " - the highest temperature in the grid\n",
    " - replace all temperatures above 35 with 35\n"
   ]
  },
  {
   "cell_type": "code",
   "execution_count": 14,
   "id": "9dc056da",
   "metadata": {},
   "outputs": [
    {
     "name": "stdout",
     "output_type": "stream",
     "text": [
      "[[29 21 25 21]\n",
      " [37 31 32 24]\n",
      " [24 39 35 35]\n",
      " [31 31 23 38]]\n",
      "30.75\n",
      "[24.   31.   33.25 30.75]\n",
      "Highest temperature recorded : 39\n",
      "[[29 21 25 21]\n",
      " [35 31 32 24]\n",
      " [24 35 35 35]\n",
      " [31 31 23 35]]\n"
     ]
    }
   ],
   "source": [
    "temperatures = np.random.randint(20,40,size=16).reshape(4,4)\n",
    "print(temperatures)\n",
    "print(np.mean(temperatures[3:4]))\n",
    "each_zone_avg = np.mean(temperatures, axis =1)\n",
    "print(each_zone_avg)\n",
    "highest_temp = np.max(temperatures)\n",
    "print(\"Highest temperature recorded :\",highest_temp)\n",
    "temperatures[temperatures > 35] = 35\n",
    "print(temperatures)"
   ]
  },
  {
   "cell_type": "markdown",
   "id": "f37153e1",
   "metadata": {},
   "source": [
    "### 4. Traffic Data\n",
    "A city records the number of cars passing 5 intersections in 3 time slots (morning, afternoon, night).\n",
    " Create a 3×5 array of random integers between 0 and 50.\n",
    "\n",
    " Then find:\n",
    " - total cars per intersection (sum by column)\n",
    " - total cars per time slot (sum by row)\n"
   ]
  },
  {
   "cell_type": "code",
   "execution_count": 15,
   "id": "8dbf10df",
   "metadata": {},
   "outputs": [
    {
     "name": "stdout",
     "output_type": "stream",
     "text": [
      "[[41 34 10 10 20]\n",
      " [ 8 28 15  3  6]\n",
      " [ 5 33 44  9 30]]\n",
      "Total items in each slot : [115  60 121]\n",
      "Total items in each intersection : [54 95 69 22 56]\n"
     ]
    }
   ],
   "source": [
    "slots = np.random.randint(0,50,15).reshape(3,5)\n",
    "print(slots)\n",
    "total_intersection = np.sum(slots, axis=0)\n",
    "total_slot = np.sum(slots, axis=1)\n",
    "print(\"Total items in each slot :\",total_slot)\n",
    "print(\"Total items in each intersection :\",total_intersection)"
   ]
  },
  {
   "cell_type": "markdown",
   "id": "51b70804",
   "metadata": {},
   "source": [
    "### 5. Fruit Store Stock\n",
    "You sell fruits in your store. Stock levels (kg) for 5 days are:\n",
    " stock = np.array([12, 15, 9, 20, 18])\n",
    "\n",
    " A new delivery adds 5 kg to each stock.\n",
    " Then 10% of all fruits get spoiled.\n",
    "\n",
    " Find the final stock levels.\n",
    "\n",
    " Hint: use broadcasting and simple math."
   ]
  },
  {
   "cell_type": "code",
   "execution_count": null,
   "id": "1502e1b4",
   "metadata": {},
   "outputs": [],
   "source": []
  },
  {
   "cell_type": "code",
   "execution_count": null,
   "id": "0d9875ff",
   "metadata": {},
   "outputs": [],
   "source": []
  }
 ],
 "metadata": {
  "kernelspec": {
   "display_name": "Python 3",
   "language": "python",
   "name": "python3"
  },
  "language_info": {
   "codemirror_mode": {
    "name": "ipython",
    "version": 3
   },
   "file_extension": ".py",
   "mimetype": "text/x-python",
   "name": "python",
   "nbconvert_exporter": "python",
   "pygments_lexer": "ipython3",
   "version": "3.13.9"
  }
 },
 "nbformat": 4,
 "nbformat_minor": 5
}
