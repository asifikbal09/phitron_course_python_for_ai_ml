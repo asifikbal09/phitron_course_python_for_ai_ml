{
 "cells": [
  {
   "cell_type": "code",
   "execution_count": 1,
   "id": "d6720150",
   "metadata": {},
   "outputs": [
    {
     "name": "stdout",
     "output_type": "stream",
     "text": [
      "<class 'dict'>\n"
     ]
    }
   ],
   "source": [
    "# empty\n",
    "dic = {}\n",
    "\n",
    "print(type(dic))"
   ]
  },
  {
   "cell_type": "code",
   "execution_count": 8,
   "id": "6d20a75e",
   "metadata": {},
   "outputs": [
    {
     "name": "stdout",
     "output_type": "stream",
     "text": [
      "1   3\n"
     ]
    }
   ],
   "source": [
    "numbers = input()\n",
    "s = numbers.split(' ')\n",
    "t = [int(x) for x in s if x.strip()]\n",
    "max_number = max(t)\n",
    "min_number = min(t)\n",
    "print(min_number,\" \",max_number)"
   ]
  },
  {
   "cell_type": "code",
   "execution_count": 9,
   "id": "f0e7897a",
   "metadata": {},
   "outputs": [
    {
     "name": "stdout",
     "output_type": "stream",
     "text": [
      "1 2 3\n"
     ]
    }
   ],
   "source": [
    "A, B, C = map(int, input().split())\n",
    "print(A, B, C)"
   ]
  }
 ],
 "metadata": {
  "kernelspec": {
   "display_name": "Python 3",
   "language": "python",
   "name": "python3"
  },
  "language_info": {
   "codemirror_mode": {
    "name": "ipython",
    "version": 3
   },
   "file_extension": ".py",
   "mimetype": "text/x-python",
   "name": "python",
   "nbconvert_exporter": "python",
   "pygments_lexer": "ipython3",
   "version": "3.13.2"
  }
 },
 "nbformat": 4,
 "nbformat_minor": 5
}
