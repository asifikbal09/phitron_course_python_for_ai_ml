{
 "cells": [
  {
   "cell_type": "markdown",
   "id": "7cd300f4",
   "metadata": {},
   "source": [
    "<img src=\"./practice_problem.png\">"
   ]
  },
  {
   "cell_type": "code",
   "execution_count": 2,
   "id": "615f3b2c",
   "metadata": {},
   "outputs": [
    {
     "name": "stdout",
     "output_type": "stream",
     "text": [
      "[[1 4]\n",
      " [2 5]\n",
      " [3 6]]\n",
      "[[1 4 7]\n",
      " [2 5 8]\n",
      " [3 6 9]]\n"
     ]
    }
   ],
   "source": [
    "import numpy as np\n",
    "def transpose_matrix(a: list[list[int|float]]) -> list[list[int|float]]:\n",
    "    a = np.array(a)\n",
    "    b = np.transpose(a)\n",
    "    return b\n",
    "\n",
    "print(transpose_matrix([\n",
    "    [1, 2, 3],\n",
    "    [4, 5, 6],\n",
    "    ]))\n",
    "print(transpose_matrix([\n",
    "    [1, 2, 3],\n",
    "    [4, 5, 6],\n",
    "    [7, 8, 9]\n",
    "    ]))"
   ]
  }
 ],
 "metadata": {
  "kernelspec": {
   "display_name": "Python 3",
   "language": "python",
   "name": "python3"
  },
  "language_info": {
   "codemirror_mode": {
    "name": "ipython",
    "version": 3
   },
   "file_extension": ".py",
   "mimetype": "text/x-python",
   "name": "python",
   "nbconvert_exporter": "python",
   "pygments_lexer": "ipython3",
   "version": "3.13.7"
  }
 },
 "nbformat": 4,
 "nbformat_minor": 5
}
