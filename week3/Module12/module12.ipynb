{
 "cells": [
  {
   "cell_type": "code",
   "execution_count": 1,
   "id": "614ccc5b",
   "metadata": {},
   "outputs": [
    {
     "name": "stdout",
     "output_type": "stream",
     "text": [
      "  StudentID          FullName  Data Structure Marks  Algorithm Marks  \\\n",
      "0    PH1001       Alif Rahman                  85.0             85.0   \n",
      "1    PH1002     Fatima Akhter                  92.0             92.0   \n",
      "2    PH1003     Imran Hossain                  88.0             88.0   \n",
      "3    PH1004  Jannatul Ferdous                  78.0             78.0   \n",
      "4    PH1005       Kamal Uddin                   NaN              NaN   \n",
      "\n",
      "   Python Marks CompletionStatus EnrollmentDate Instructor    Location  \n",
      "0          88.0        Completed     2024-01-15  Mr. Karim       Dhaka  \n",
      "1           NaN      In Progress     2024-01-20  Ms. Salma  Chattogram  \n",
      "2          85.0        Completed     2024-02-10  Mr. Karim       Dhaka  \n",
      "3          82.0        Completed     2024-02-12  Ms. Salma      Sylhet  \n",
      "4          95.0      In Progress     2024-03-05  Mr. Karim  Chattogram  \n",
      "<class 'pandas.core.frame.DataFrame'>\n"
     ]
    }
   ],
   "source": [
    "import pandas as pd\n",
    "\n",
    "df = pd.read_csv(\"./datasets/student_data.csv\")\n",
    "print(df.head())\n",
    "print(type(df))"
   ]
  },
  {
   "cell_type": "code",
   "execution_count": 2,
   "id": "283c101e",
   "metadata": {},
   "outputs": [
    {
     "name": "stdout",
     "output_type": "stream",
     "text": [
      "0     PH1001\n",
      "1     PH1002\n",
      "2     PH1003\n",
      "3     PH1004\n",
      "4     PH1005\n",
      "5     PH1006\n",
      "6     PH1007\n",
      "7     PH1008\n",
      "8     PH1009\n",
      "9     PH1010\n",
      "10    PH1011\n",
      "11    PH1012\n",
      "12    PH1013\n",
      "13    PH1014\n",
      "14    PH1015\n",
      "15    PH1016\n",
      "16    PH1017\n",
      "17    PH1018\n",
      "18    PH1019\n",
      "19    PH1020\n",
      "Name: StudentID, dtype: object\n",
      "<class 'pandas.core.series.Series'>\n"
     ]
    }
   ],
   "source": [
    "studentID = df[\"StudentID\"]\n",
    "print(studentID)\n",
    "print(type(studentID))"
   ]
  },
  {
   "cell_type": "markdown",
   "id": "f9d7bf10",
   "metadata": {},
   "source": [
    "### Load Different type of datasets"
   ]
  },
  {
   "cell_type": "code",
   "execution_count": 3,
   "id": "e59b6321",
   "metadata": {},
   "outputs": [
    {
     "name": "stdout",
     "output_type": "stream",
     "text": [
      "  StudentID          FullName  Data Structure Marks  Algorithm Marks  \\\n",
      "0    PH1001       Alif Rahman                  85.0             85.0   \n",
      "1    PH1002     Fatima Akhter                  92.0             92.0   \n",
      "2    PH1003     Imran Hossain                  88.0             88.0   \n",
      "3    PH1004  Jannatul Ferdous                  78.0             78.0   \n",
      "4    PH1005       Kamal Uddin                   NaN              NaN   \n",
      "\n",
      "   Python Marks CompletionStatus EnrollmentDate Instructor    Location  \n",
      "0          88.0        Completed     2024-01-15  Mr. Karim       Dhaka  \n",
      "1           NaN      In Progress     2024-01-20  Ms. Salma  Chattogram  \n",
      "2          85.0        Completed     2024-02-10  Mr. Karim       Dhaka  \n",
      "3          82.0        Completed     2024-02-12  Ms. Salma      Sylhet  \n",
      "4          95.0      In Progress     2024-03-05  Mr. Karim  Chattogram  \n",
      "<class 'pandas.core.frame.DataFrame'>\n"
     ]
    }
   ],
   "source": [
    "# load csv file\n",
    "csv_file = pd.read_csv(\"./datasets/student_data.csv\")\n",
    "print(csv_file.head())\n",
    "print(type(csv_file))"
   ]
  },
  {
   "cell_type": "code",
   "execution_count": 4,
   "id": "4550601f",
   "metadata": {},
   "outputs": [
    {
     "name": "stdout",
     "output_type": "stream",
     "text": [
      "  StudentID          FullName  Data Structure Marks  Algorithm Marks  \\\n",
      "0    PH1001       Alif Rahman                  85.0             85.0   \n",
      "1    PH1002     Fatima Akhter                  92.0             92.0   \n",
      "2    PH1003     Imran Hossain                  88.0             88.0   \n",
      "3    PH1004  Jannatul Ferdous                  78.0             78.0   \n",
      "4    PH1005       Kamal Uddin                   NaN              NaN   \n",
      "\n",
      "   Python Marks CompletionStatus EnrollmentDate Instructor    Location  \n",
      "0          88.0        Completed     2024-01-15  Mr. Karim       Dhaka  \n",
      "1           NaN      In Progress     2024-01-20  Ms. Salma  Chattogram  \n",
      "2          85.0        Completed     2024-02-10  Mr. Karim       Dhaka  \n",
      "3          82.0        Completed     2024-02-12  Ms. Salma      Sylhet  \n",
      "4          95.0      In Progress     2024-03-05  Mr. Karim  Chattogram  \n",
      "<class 'pandas.core.frame.DataFrame'>\n"
     ]
    }
   ],
   "source": [
    "\n",
    "#load excel file\n",
    "excel_file = pd.read_excel(\"./datasets/phitron_student_marks.xlsx\")\n",
    "print(excel_file.head())\n",
    "print(type(excel_file))"
   ]
  },
  {
   "cell_type": "code",
   "execution_count": 5,
   "id": "5d7f6f0b",
   "metadata": {},
   "outputs": [
    {
     "name": "stdout",
     "output_type": "stream",
     "text": [
      "  StudentID          FullName  Data Structure Marks  Algorithm Marks  \\\n",
      "0    PH1001       Alif Rahman                    85               85   \n",
      "1    PH1002     Fatima Akhter                    92               92   \n",
      "2    PH1004  Jannatul Ferdous                    78               78   \n",
      "\n",
      "   Python Marks  \n",
      "0            88  \n",
      "1            90  \n",
      "2            82  \n",
      "<class 'pandas.core.frame.DataFrame'>\n"
     ]
    }
   ],
   "source": [
    "# load json file\n",
    "json_file = pd.read_json(\"./datasets/data.json\")\n",
    "print(json_file.head())\n",
    "print(type(json_file))"
   ]
  },
  {
   "cell_type": "code",
   "execution_count": 6,
   "id": "1da74c22",
   "metadata": {},
   "outputs": [
    {
     "name": "stdout",
     "output_type": "stream",
     "text": [
      "  StudentID          FullName  Data Structure Marks  Algorithm Marks  \\\n",
      "0    PH1001       Alif Rahman                  85.0             85.0   \n",
      "1    PH1002     Fatima Akhter                  92.0             92.0   \n",
      "2    PH1003     Imran Hossain                  88.0             88.0   \n",
      "3    PH1004  Jannatul Ferdous                  78.0             78.0   \n",
      "4    PH1005       Kamal Uddin                   NaN              NaN   \n",
      "\n",
      "   Python Marks CompletionStatus EnrollmentDate Instructor    Location  \n",
      "0          88.0        Completed     2024-01-15  Mr. Karim       Dhaka  \n",
      "1           NaN      In Progress     2024-01-20  Ms. Salma  Chattogram  \n",
      "2          85.0        Completed     2024-02-10  Mr. Karim       Dhaka  \n",
      "3          82.0        Completed     2024-02-12  Ms. Salma      Sylhet  \n",
      "4          95.0      In Progress     2024-03-05  Mr. Karim  Chattogram  \n",
      "<class 'pandas.core.frame.DataFrame'>\n"
     ]
    }
   ],
   "source": [
    "#load parquet file\n",
    "parquet_file = pd.read_parquet(\"./datasets/students.parquet\")\n",
    "print(parquet_file.head())\n",
    "print(type(parquet_file))"
   ]
  },
  {
   "cell_type": "code",
   "execution_count": null,
   "id": "f89a38aa",
   "metadata": {},
   "outputs": [],
   "source": []
  }
 ],
 "metadata": {
  "kernelspec": {
   "display_name": "Python 3",
   "language": "python",
   "name": "python3"
  },
  "language_info": {
   "codemirror_mode": {
    "name": "ipython",
    "version": 3
   },
   "file_extension": ".py",
   "mimetype": "text/x-python",
   "name": "python",
   "nbconvert_exporter": "python",
   "pygments_lexer": "ipython3",
   "version": "3.13.7"
  }
 },
 "nbformat": 4,
 "nbformat_minor": 5
}
