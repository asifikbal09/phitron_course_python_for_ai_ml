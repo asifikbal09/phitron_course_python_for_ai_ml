{
 "cells": [
  {
   "cell_type": "code",
   "execution_count": 1,
   "id": "614ccc5b",
   "metadata": {},
   "outputs": [
    {
     "name": "stdout",
     "output_type": "stream",
     "text": [
      "  StudentID          FullName  Data Structure Marks  Algorithm Marks  \\\n",
      "0    PH1001       Alif Rahman                  85.0             85.0   \n",
      "1    PH1002     Fatima Akhter                  92.0             92.0   \n",
      "2    PH1003     Imran Hossain                  88.0             88.0   \n",
      "3    PH1004  Jannatul Ferdous                  78.0             78.0   \n",
      "4    PH1005       Kamal Uddin                   NaN              NaN   \n",
      "\n",
      "   Python Marks CompletionStatus EnrollmentDate Instructor    Location  \n",
      "0          88.0        Completed     2024-01-15  Mr. Karim       Dhaka  \n",
      "1           NaN      In Progress     2024-01-20  Ms. Salma  Chattogram  \n",
      "2          85.0        Completed     2024-02-10  Mr. Karim       Dhaka  \n",
      "3          82.0        Completed     2024-02-12  Ms. Salma      Sylhet  \n",
      "4          95.0      In Progress     2024-03-05  Mr. Karim  Chattogram  \n",
      "<class 'pandas.core.frame.DataFrame'>\n"
     ]
    }
   ],
   "source": [
    "import pandas as pd\n",
    "\n",
    "df = pd.read_csv(\"./datasets/student_data.csv\")\n",
    "print(df.head())\n",
    "print(type(df))"
   ]
  },
  {
   "cell_type": "code",
   "execution_count": 2,
   "id": "283c101e",
   "metadata": {},
   "outputs": [
    {
     "name": "stdout",
     "output_type": "stream",
     "text": [
      "0     PH1001\n",
      "1     PH1002\n",
      "2     PH1003\n",
      "3     PH1004\n",
      "4     PH1005\n",
      "5     PH1006\n",
      "6     PH1007\n",
      "7     PH1008\n",
      "8     PH1009\n",
      "9     PH1010\n",
      "10    PH1011\n",
      "11    PH1012\n",
      "12    PH1013\n",
      "13    PH1014\n",
      "14    PH1015\n",
      "15    PH1016\n",
      "16    PH1017\n",
      "17    PH1018\n",
      "18    PH1019\n",
      "19    PH1020\n",
      "Name: StudentID, dtype: object\n",
      "<class 'pandas.core.series.Series'>\n"
     ]
    }
   ],
   "source": [
    "studentID = df[\"StudentID\"]\n",
    "print(studentID)\n",
    "print(type(studentID))"
   ]
  },
  {
   "cell_type": "markdown",
   "id": "f9d7bf10",
   "metadata": {},
   "source": [
    "### Load Different type of datasets"
   ]
  },
  {
   "cell_type": "code",
   "execution_count": 3,
   "id": "e59b6321",
   "metadata": {},
   "outputs": [
    {
     "name": "stdout",
     "output_type": "stream",
     "text": [
      "  StudentID          FullName  Data Structure Marks  Algorithm Marks  \\\n",
      "0    PH1001       Alif Rahman                  85.0             85.0   \n",
      "1    PH1002     Fatima Akhter                  92.0             92.0   \n",
      "2    PH1003     Imran Hossain                  88.0             88.0   \n",
      "3    PH1004  Jannatul Ferdous                  78.0             78.0   \n",
      "4    PH1005       Kamal Uddin                   NaN              NaN   \n",
      "\n",
      "   Python Marks CompletionStatus EnrollmentDate Instructor    Location  \n",
      "0          88.0        Completed     2024-01-15  Mr. Karim       Dhaka  \n",
      "1           NaN      In Progress     2024-01-20  Ms. Salma  Chattogram  \n",
      "2          85.0        Completed     2024-02-10  Mr. Karim       Dhaka  \n",
      "3          82.0        Completed     2024-02-12  Ms. Salma      Sylhet  \n",
      "4          95.0      In Progress     2024-03-05  Mr. Karim  Chattogram  \n",
      "<class 'pandas.core.frame.DataFrame'>\n"
     ]
    }
   ],
   "source": [
    "# load csv file\n",
    "csv_file = pd.read_csv(\"./datasets/student_data.csv\")\n",
    "print(csv_file.head())\n",
    "print(type(csv_file))"
   ]
  },
  {
   "cell_type": "code",
   "execution_count": 4,
   "id": "4550601f",
   "metadata": {},
   "outputs": [
    {
     "name": "stdout",
     "output_type": "stream",
     "text": [
      "  StudentID          FullName  Data Structure Marks  Algorithm Marks  \\\n",
      "0    PH1001       Alif Rahman                  85.0             85.0   \n",
      "1    PH1002     Fatima Akhter                  92.0             92.0   \n",
      "2    PH1003     Imran Hossain                  88.0             88.0   \n",
      "3    PH1004  Jannatul Ferdous                  78.0             78.0   \n",
      "4    PH1005       Kamal Uddin                   NaN              NaN   \n",
      "\n",
      "   Python Marks CompletionStatus EnrollmentDate Instructor    Location  \n",
      "0          88.0        Completed     2024-01-15  Mr. Karim       Dhaka  \n",
      "1           NaN      In Progress     2024-01-20  Ms. Salma  Chattogram  \n",
      "2          85.0        Completed     2024-02-10  Mr. Karim       Dhaka  \n",
      "3          82.0        Completed     2024-02-12  Ms. Salma      Sylhet  \n",
      "4          95.0      In Progress     2024-03-05  Mr. Karim  Chattogram  \n",
      "<class 'pandas.core.frame.DataFrame'>\n"
     ]
    }
   ],
   "source": [
    "\n",
    "#load excel file\n",
    "excel_file = pd.read_excel(\"./datasets/phitron_student_marks.xlsx\")\n",
    "print(excel_file.head())\n",
    "print(type(excel_file))"
   ]
  },
  {
   "cell_type": "code",
   "execution_count": 5,
   "id": "5d7f6f0b",
   "metadata": {},
   "outputs": [
    {
     "name": "stdout",
     "output_type": "stream",
     "text": [
      "  StudentID          FullName  Data Structure Marks  Algorithm Marks  \\\n",
      "0    PH1001       Alif Rahman                    85               85   \n",
      "1    PH1002     Fatima Akhter                    92               92   \n",
      "2    PH1004  Jannatul Ferdous                    78               78   \n",
      "\n",
      "   Python Marks  \n",
      "0            88  \n",
      "1            90  \n",
      "2            82  \n",
      "<class 'pandas.core.frame.DataFrame'>\n"
     ]
    }
   ],
   "source": [
    "# load json file\n",
    "json_file = pd.read_json(\"./datasets/data.json\")\n",
    "print(json_file.head())\n",
    "print(type(json_file))"
   ]
  },
  {
   "cell_type": "code",
   "execution_count": 6,
   "id": "1da74c22",
   "metadata": {},
   "outputs": [
    {
     "name": "stdout",
     "output_type": "stream",
     "text": [
      "  StudentID          FullName  Data Structure Marks  Algorithm Marks  \\\n",
      "0    PH1001       Alif Rahman                  85.0             85.0   \n",
      "1    PH1002     Fatima Akhter                  92.0             92.0   \n",
      "2    PH1003     Imran Hossain                  88.0             88.0   \n",
      "3    PH1004  Jannatul Ferdous                  78.0             78.0   \n",
      "4    PH1005       Kamal Uddin                   NaN              NaN   \n",
      "\n",
      "   Python Marks CompletionStatus EnrollmentDate Instructor    Location  \n",
      "0          88.0        Completed     2024-01-15  Mr. Karim       Dhaka  \n",
      "1           NaN      In Progress     2024-01-20  Ms. Salma  Chattogram  \n",
      "2          85.0        Completed     2024-02-10  Mr. Karim       Dhaka  \n",
      "3          82.0        Completed     2024-02-12  Ms. Salma      Sylhet  \n",
      "4          95.0      In Progress     2024-03-05  Mr. Karim  Chattogram  \n",
      "<class 'pandas.core.frame.DataFrame'>\n"
     ]
    }
   ],
   "source": [
    "#load parquet file\n",
    "parquet_file = pd.read_parquet(\"./datasets/students.parquet\")\n",
    "print(parquet_file.head())\n",
    "print(type(parquet_file))"
   ]
  },
  {
   "cell_type": "code",
   "execution_count": 7,
   "id": "f89a38aa",
   "metadata": {},
   "outputs": [
    {
     "data": {
      "text/html": [
       "<div>\n",
       "<style scoped>\n",
       "    .dataframe tbody tr th:only-of-type {\n",
       "        vertical-align: middle;\n",
       "    }\n",
       "\n",
       "    .dataframe tbody tr th {\n",
       "        vertical-align: top;\n",
       "    }\n",
       "\n",
       "    .dataframe thead th {\n",
       "        text-align: right;\n",
       "    }\n",
       "</style>\n",
       "<table border=\"1\" class=\"dataframe\">\n",
       "  <thead>\n",
       "    <tr style=\"text-align: right;\">\n",
       "      <th></th>\n",
       "      <th>StudentID</th>\n",
       "      <th>FullName</th>\n",
       "      <th>Data Structure Marks</th>\n",
       "      <th>Algorithm Marks</th>\n",
       "      <th>Python Marks</th>\n",
       "      <th>CompletionStatus</th>\n",
       "      <th>EnrollmentDate</th>\n",
       "      <th>Instructor</th>\n",
       "      <th>Location</th>\n",
       "    </tr>\n",
       "  </thead>\n",
       "  <tbody>\n",
       "    <tr>\n",
       "      <th>0</th>\n",
       "      <td>PH1001</td>\n",
       "      <td>Alif Rahman</td>\n",
       "      <td>85.0</td>\n",
       "      <td>85.0</td>\n",
       "      <td>88.0</td>\n",
       "      <td>Completed</td>\n",
       "      <td>2024-01-15</td>\n",
       "      <td>Mr. Karim</td>\n",
       "      <td>Dhaka</td>\n",
       "    </tr>\n",
       "    <tr>\n",
       "      <th>1</th>\n",
       "      <td>PH1002</td>\n",
       "      <td>Fatima Akhter</td>\n",
       "      <td>92.0</td>\n",
       "      <td>92.0</td>\n",
       "      <td>NaN</td>\n",
       "      <td>In Progress</td>\n",
       "      <td>2024-01-20</td>\n",
       "      <td>Ms. Salma</td>\n",
       "      <td>Chattogram</td>\n",
       "    </tr>\n",
       "    <tr>\n",
       "      <th>2</th>\n",
       "      <td>PH1003</td>\n",
       "      <td>Imran Hossain</td>\n",
       "      <td>88.0</td>\n",
       "      <td>88.0</td>\n",
       "      <td>85.0</td>\n",
       "      <td>Completed</td>\n",
       "      <td>2024-02-10</td>\n",
       "      <td>Mr. Karim</td>\n",
       "      <td>Dhaka</td>\n",
       "    </tr>\n",
       "    <tr>\n",
       "      <th>3</th>\n",
       "      <td>PH1004</td>\n",
       "      <td>Jannatul Ferdous</td>\n",
       "      <td>78.0</td>\n",
       "      <td>78.0</td>\n",
       "      <td>82.0</td>\n",
       "      <td>Completed</td>\n",
       "      <td>2024-02-12</td>\n",
       "      <td>Ms. Salma</td>\n",
       "      <td>Sylhet</td>\n",
       "    </tr>\n",
       "    <tr>\n",
       "      <th>4</th>\n",
       "      <td>PH1005</td>\n",
       "      <td>Kamal Uddin</td>\n",
       "      <td>NaN</td>\n",
       "      <td>NaN</td>\n",
       "      <td>95.0</td>\n",
       "      <td>In Progress</td>\n",
       "      <td>2024-03-05</td>\n",
       "      <td>Mr. Karim</td>\n",
       "      <td>Chattogram</td>\n",
       "    </tr>\n",
       "  </tbody>\n",
       "</table>\n",
       "</div>"
      ],
      "text/plain": [
       "  StudentID          FullName  Data Structure Marks  Algorithm Marks  \\\n",
       "0    PH1001       Alif Rahman                  85.0             85.0   \n",
       "1    PH1002     Fatima Akhter                  92.0             92.0   \n",
       "2    PH1003     Imran Hossain                  88.0             88.0   \n",
       "3    PH1004  Jannatul Ferdous                  78.0             78.0   \n",
       "4    PH1005       Kamal Uddin                   NaN              NaN   \n",
       "\n",
       "   Python Marks CompletionStatus EnrollmentDate Instructor    Location  \n",
       "0          88.0        Completed     2024-01-15  Mr. Karim       Dhaka  \n",
       "1           NaN      In Progress     2024-01-20  Ms. Salma  Chattogram  \n",
       "2          85.0        Completed     2024-02-10  Mr. Karim       Dhaka  \n",
       "3          82.0        Completed     2024-02-12  Ms. Salma      Sylhet  \n",
       "4          95.0      In Progress     2024-03-05  Mr. Karim  Chattogram  "
      ]
     },
     "execution_count": 7,
     "metadata": {},
     "output_type": "execute_result"
    }
   ],
   "source": [
    "df.head()"
   ]
  },
  {
   "cell_type": "code",
   "execution_count": 10,
   "id": "07accfbf",
   "metadata": {},
   "outputs": [
    {
     "name": "stdout",
     "output_type": "stream",
     "text": [
      "<class 'pandas.core.frame.DataFrame'>\n",
      "RangeIndex: 20 entries, 0 to 19\n",
      "Data columns (total 9 columns):\n",
      " #   Column                Non-Null Count  Dtype  \n",
      "---  ------                --------------  -----  \n",
      " 0   StudentID             20 non-null     object \n",
      " 1   FullName              20 non-null     object \n",
      " 2   Data Structure Marks  16 non-null     float64\n",
      " 3   Algorithm Marks       16 non-null     float64\n",
      " 4   Python Marks          15 non-null     float64\n",
      " 5   CompletionStatus      20 non-null     object \n",
      " 6   EnrollmentDate        20 non-null     object \n",
      " 7   Instructor            20 non-null     object \n",
      " 8   Location              20 non-null     object \n",
      "dtypes: float64(3), object(6)\n",
      "memory usage: 1.5+ KB\n"
     ]
    }
   ],
   "source": [
    "df.info()"
   ]
  },
  {
   "cell_type": "code",
   "execution_count": 11,
   "id": "dddf43da",
   "metadata": {},
   "outputs": [
    {
     "data": {
      "text/html": [
       "<div>\n",
       "<style scoped>\n",
       "    .dataframe tbody tr th:only-of-type {\n",
       "        vertical-align: middle;\n",
       "    }\n",
       "\n",
       "    .dataframe tbody tr th {\n",
       "        vertical-align: top;\n",
       "    }\n",
       "\n",
       "    .dataframe thead th {\n",
       "        text-align: right;\n",
       "    }\n",
       "</style>\n",
       "<table border=\"1\" class=\"dataframe\">\n",
       "  <thead>\n",
       "    <tr style=\"text-align: right;\">\n",
       "      <th></th>\n",
       "      <th>StudentID</th>\n",
       "      <th>FullName</th>\n",
       "      <th>Data Structure Marks</th>\n",
       "      <th>Algorithm Marks</th>\n",
       "      <th>Python Marks</th>\n",
       "      <th>CompletionStatus</th>\n",
       "      <th>EnrollmentDate</th>\n",
       "      <th>Instructor</th>\n",
       "      <th>Location</th>\n",
       "    </tr>\n",
       "  </thead>\n",
       "  <tbody>\n",
       "    <tr>\n",
       "      <th>14</th>\n",
       "      <td>PH1015</td>\n",
       "      <td>Wahiduzzaman</td>\n",
       "      <td>86.0</td>\n",
       "      <td>86.0</td>\n",
       "      <td>84.0</td>\n",
       "      <td>Completed</td>\n",
       "      <td>2024-08-18</td>\n",
       "      <td>Mr. Karim</td>\n",
       "      <td>Dhaka</td>\n",
       "    </tr>\n",
       "    <tr>\n",
       "      <th>17</th>\n",
       "      <td>PH1018</td>\n",
       "      <td>Babul Ahmed</td>\n",
       "      <td>88.0</td>\n",
       "      <td>88.0</td>\n",
       "      <td>85.0</td>\n",
       "      <td>Completed</td>\n",
       "      <td>2025-09-05</td>\n",
       "      <td>Ms. Salma</td>\n",
       "      <td>Sylhet</td>\n",
       "    </tr>\n",
       "    <tr>\n",
       "      <th>3</th>\n",
       "      <td>PH1004</td>\n",
       "      <td>Jannatul Ferdous</td>\n",
       "      <td>78.0</td>\n",
       "      <td>78.0</td>\n",
       "      <td>82.0</td>\n",
       "      <td>Completed</td>\n",
       "      <td>2024-02-12</td>\n",
       "      <td>Ms. Salma</td>\n",
       "      <td>Sylhet</td>\n",
       "    </tr>\n",
       "    <tr>\n",
       "      <th>19</th>\n",
       "      <td>PH1020</td>\n",
       "      <td>Nasir Khan</td>\n",
       "      <td>86.0</td>\n",
       "      <td>86.0</td>\n",
       "      <td>89.0</td>\n",
       "      <td>Completed</td>\n",
       "      <td>2025-10-02</td>\n",
       "      <td>Ms. Salma</td>\n",
       "      <td>Dhaka</td>\n",
       "    </tr>\n",
       "    <tr>\n",
       "      <th>6</th>\n",
       "      <td>PH1007</td>\n",
       "      <td>Mahmudul Hasan</td>\n",
       "      <td>80.0</td>\n",
       "      <td>80.0</td>\n",
       "      <td>NaN</td>\n",
       "      <td>In Progress</td>\n",
       "      <td>2024-04-01</td>\n",
       "      <td>Mr. Karim</td>\n",
       "      <td>Dhaka</td>\n",
       "    </tr>\n",
       "    <tr>\n",
       "      <th>7</th>\n",
       "      <td>PH1008</td>\n",
       "      <td>Nadia Islam</td>\n",
       "      <td>81.0</td>\n",
       "      <td>81.0</td>\n",
       "      <td>85.0</td>\n",
       "      <td>Completed</td>\n",
       "      <td>2024-04-22</td>\n",
       "      <td>Ms. Salma</td>\n",
       "      <td>Chattogram</td>\n",
       "    </tr>\n",
       "    <tr>\n",
       "      <th>16</th>\n",
       "      <td>PH1017</td>\n",
       "      <td>Afsana Mimi</td>\n",
       "      <td>90.0</td>\n",
       "      <td>90.0</td>\n",
       "      <td>93.0</td>\n",
       "      <td>Completed</td>\n",
       "      <td>2025-09-01</td>\n",
       "      <td>Mr. Karim</td>\n",
       "      <td>Dhaka</td>\n",
       "    </tr>\n",
       "    <tr>\n",
       "      <th>15</th>\n",
       "      <td>PH1016</td>\n",
       "      <td>Ziaur Rahman</td>\n",
       "      <td>94.0</td>\n",
       "      <td>94.0</td>\n",
       "      <td>NaN</td>\n",
       "      <td>In Progress</td>\n",
       "      <td>2024-08-21</td>\n",
       "      <td>Ms. Salma</td>\n",
       "      <td>Chattogram</td>\n",
       "    </tr>\n",
       "    <tr>\n",
       "      <th>2</th>\n",
       "      <td>PH1003</td>\n",
       "      <td>Imran Hossain</td>\n",
       "      <td>88.0</td>\n",
       "      <td>88.0</td>\n",
       "      <td>85.0</td>\n",
       "      <td>Completed</td>\n",
       "      <td>2024-02-10</td>\n",
       "      <td>Mr. Karim</td>\n",
       "      <td>Dhaka</td>\n",
       "    </tr>\n",
       "    <tr>\n",
       "      <th>18</th>\n",
       "      <td>PH1019</td>\n",
       "      <td>Faria Rahman</td>\n",
       "      <td>NaN</td>\n",
       "      <td>NaN</td>\n",
       "      <td>NaN</td>\n",
       "      <td>Not Started</td>\n",
       "      <td>2025-09-15</td>\n",
       "      <td>Mr. David</td>\n",
       "      <td>Chattogram</td>\n",
       "    </tr>\n",
       "  </tbody>\n",
       "</table>\n",
       "</div>"
      ],
      "text/plain": [
       "   StudentID          FullName  Data Structure Marks  Algorithm Marks  \\\n",
       "14    PH1015      Wahiduzzaman                  86.0             86.0   \n",
       "17    PH1018       Babul Ahmed                  88.0             88.0   \n",
       "3     PH1004  Jannatul Ferdous                  78.0             78.0   \n",
       "19    PH1020        Nasir Khan                  86.0             86.0   \n",
       "6     PH1007    Mahmudul Hasan                  80.0             80.0   \n",
       "7     PH1008       Nadia Islam                  81.0             81.0   \n",
       "16    PH1017       Afsana Mimi                  90.0             90.0   \n",
       "15    PH1016      Ziaur Rahman                  94.0             94.0   \n",
       "2     PH1003     Imran Hossain                  88.0             88.0   \n",
       "18    PH1019      Faria Rahman                   NaN              NaN   \n",
       "\n",
       "    Python Marks CompletionStatus EnrollmentDate Instructor    Location  \n",
       "14          84.0        Completed     2024-08-18  Mr. Karim       Dhaka  \n",
       "17          85.0        Completed     2025-09-05  Ms. Salma      Sylhet  \n",
       "3           82.0        Completed     2024-02-12  Ms. Salma      Sylhet  \n",
       "19          89.0        Completed     2025-10-02  Ms. Salma       Dhaka  \n",
       "6            NaN      In Progress     2024-04-01  Mr. Karim       Dhaka  \n",
       "7           85.0        Completed     2024-04-22  Ms. Salma  Chattogram  \n",
       "16          93.0        Completed     2025-09-01  Mr. Karim       Dhaka  \n",
       "15           NaN      In Progress     2024-08-21  Ms. Salma  Chattogram  \n",
       "2           85.0        Completed     2024-02-10  Mr. Karim       Dhaka  \n",
       "18           NaN      Not Started     2025-09-15  Mr. David  Chattogram  "
      ]
     },
     "execution_count": 11,
     "metadata": {},
     "output_type": "execute_result"
    }
   ],
   "source": [
    "df.sample(10)"
   ]
  },
  {
   "cell_type": "code",
   "execution_count": 12,
   "id": "93a1e564",
   "metadata": {},
   "outputs": [
    {
     "data": {
      "text/html": [
       "<div>\n",
       "<style scoped>\n",
       "    .dataframe tbody tr th:only-of-type {\n",
       "        vertical-align: middle;\n",
       "    }\n",
       "\n",
       "    .dataframe tbody tr th {\n",
       "        vertical-align: top;\n",
       "    }\n",
       "\n",
       "    .dataframe thead th {\n",
       "        text-align: right;\n",
       "    }\n",
       "</style>\n",
       "<table border=\"1\" class=\"dataframe\">\n",
       "  <thead>\n",
       "    <tr style=\"text-align: right;\">\n",
       "      <th></th>\n",
       "      <th>Data Structure Marks</th>\n",
       "      <th>Algorithm Marks</th>\n",
       "      <th>Python Marks</th>\n",
       "    </tr>\n",
       "  </thead>\n",
       "  <tbody>\n",
       "    <tr>\n",
       "      <th>count</th>\n",
       "      <td>16.000000</td>\n",
       "      <td>16.000000</td>\n",
       "      <td>15.000000</td>\n",
       "    </tr>\n",
       "    <tr>\n",
       "      <th>mean</th>\n",
       "      <td>84.000000</td>\n",
       "      <td>84.000000</td>\n",
       "      <td>85.666667</td>\n",
       "    </tr>\n",
       "    <tr>\n",
       "      <th>std</th>\n",
       "      <td>6.501282</td>\n",
       "      <td>6.501282</td>\n",
       "      <td>5.394000</td>\n",
       "    </tr>\n",
       "    <tr>\n",
       "      <th>min</th>\n",
       "      <td>72.000000</td>\n",
       "      <td>72.000000</td>\n",
       "      <td>76.000000</td>\n",
       "    </tr>\n",
       "    <tr>\n",
       "      <th>25%</th>\n",
       "      <td>79.500000</td>\n",
       "      <td>79.500000</td>\n",
       "      <td>83.000000</td>\n",
       "    </tr>\n",
       "    <tr>\n",
       "      <th>50%</th>\n",
       "      <td>85.500000</td>\n",
       "      <td>85.500000</td>\n",
       "      <td>85.000000</td>\n",
       "    </tr>\n",
       "    <tr>\n",
       "      <th>75%</th>\n",
       "      <td>88.250000</td>\n",
       "      <td>88.250000</td>\n",
       "      <td>88.500000</td>\n",
       "    </tr>\n",
       "    <tr>\n",
       "      <th>max</th>\n",
       "      <td>94.000000</td>\n",
       "      <td>94.000000</td>\n",
       "      <td>95.000000</td>\n",
       "    </tr>\n",
       "  </tbody>\n",
       "</table>\n",
       "</div>"
      ],
      "text/plain": [
       "       Data Structure Marks  Algorithm Marks  Python Marks\n",
       "count             16.000000        16.000000     15.000000\n",
       "mean              84.000000        84.000000     85.666667\n",
       "std                6.501282         6.501282      5.394000\n",
       "min               72.000000        72.000000     76.000000\n",
       "25%               79.500000        79.500000     83.000000\n",
       "50%               85.500000        85.500000     85.000000\n",
       "75%               88.250000        88.250000     88.500000\n",
       "max               94.000000        94.000000     95.000000"
      ]
     },
     "execution_count": 12,
     "metadata": {},
     "output_type": "execute_result"
    }
   ],
   "source": [
    "df.describe()"
   ]
  },
  {
   "cell_type": "code",
   "execution_count": 13,
   "id": "76f52339",
   "metadata": {},
   "outputs": [
    {
     "data": {
      "text/plain": [
       "Index(['StudentID', 'FullName', 'Data Structure Marks', 'Algorithm Marks',\n",
       "       'Python Marks', 'CompletionStatus', 'EnrollmentDate', 'Instructor',\n",
       "       'Location'],\n",
       "      dtype='object')"
      ]
     },
     "execution_count": 13,
     "metadata": {},
     "output_type": "execute_result"
    }
   ],
   "source": [
    "df.columns"
   ]
  },
  {
   "cell_type": "code",
   "execution_count": 14,
   "id": "5dd97e54",
   "metadata": {},
   "outputs": [
    {
     "data": {
      "text/plain": [
       "RangeIndex(start=0, stop=20, step=1)"
      ]
     },
     "execution_count": 14,
     "metadata": {},
     "output_type": "execute_result"
    }
   ],
   "source": [
    "df.index"
   ]
  },
  {
   "cell_type": "code",
   "execution_count": 16,
   "id": "edbdf126",
   "metadata": {},
   "outputs": [
    {
     "name": "stdout",
     "output_type": "stream",
     "text": [
      "['StudentID' 'FullName' 'Data Structure Marks' 'Algorithm Marks'\n",
      " 'Python Marks' 'CompletionStatus' 'EnrollmentDate' 'Instructor'\n",
      " 'Location']\n"
     ]
    }
   ],
   "source": [
    "import numpy as np\n",
    "cols = np.array(df.columns)\n",
    "print(cols)"
   ]
  },
  {
   "cell_type": "markdown",
   "id": "1643b162",
   "metadata": {},
   "source": [
    "### Transform to df from inbuilt data"
   ]
  },
  {
   "cell_type": "code",
   "execution_count": 17,
   "id": "b3255199",
   "metadata": {},
   "outputs": [
    {
     "data": {
      "text/html": [
       "<div>\n",
       "<style scoped>\n",
       "    .dataframe tbody tr th:only-of-type {\n",
       "        vertical-align: middle;\n",
       "    }\n",
       "\n",
       "    .dataframe tbody tr th {\n",
       "        vertical-align: top;\n",
       "    }\n",
       "\n",
       "    .dataframe thead th {\n",
       "        text-align: right;\n",
       "    }\n",
       "</style>\n",
       "<table border=\"1\" class=\"dataframe\">\n",
       "  <thead>\n",
       "    <tr style=\"text-align: right;\">\n",
       "      <th></th>\n",
       "      <th>Name</th>\n",
       "      <th>Age</th>\n",
       "    </tr>\n",
       "  </thead>\n",
       "  <tbody>\n",
       "    <tr>\n",
       "      <th>0</th>\n",
       "      <td>Alice</td>\n",
       "      <td>24</td>\n",
       "    </tr>\n",
       "    <tr>\n",
       "      <th>1</th>\n",
       "      <td>Bob</td>\n",
       "      <td>22</td>\n",
       "    </tr>\n",
       "    <tr>\n",
       "      <th>2</th>\n",
       "      <td>Charlie</td>\n",
       "      <td>23</td>\n",
       "    </tr>\n",
       "  </tbody>\n",
       "</table>\n",
       "</div>"
      ],
      "text/plain": [
       "      Name  Age\n",
       "0    Alice   24\n",
       "1      Bob   22\n",
       "2  Charlie   23"
      ]
     },
     "execution_count": 17,
     "metadata": {},
     "output_type": "execute_result"
    }
   ],
   "source": [
    "my_list = [[\"Alice\", 24], [\"Bob\", 22], [\"Charlie\", 23]]\n",
    "\n",
    "df_from_list = pd.DataFrame(my_list, columns=[\"Name\", \"Age\"])\n",
    "df_from_list"
   ]
  },
  {
   "cell_type": "code",
   "execution_count": 18,
   "id": "5565ec12",
   "metadata": {},
   "outputs": [
    {
     "data": {
      "text/html": [
       "<div>\n",
       "<style scoped>\n",
       "    .dataframe tbody tr th:only-of-type {\n",
       "        vertical-align: middle;\n",
       "    }\n",
       "\n",
       "    .dataframe tbody tr th {\n",
       "        vertical-align: top;\n",
       "    }\n",
       "\n",
       "    .dataframe thead th {\n",
       "        text-align: right;\n",
       "    }\n",
       "</style>\n",
       "<table border=\"1\" class=\"dataframe\">\n",
       "  <thead>\n",
       "    <tr style=\"text-align: right;\">\n",
       "      <th></th>\n",
       "      <th>Name</th>\n",
       "      <th>Age</th>\n",
       "    </tr>\n",
       "  </thead>\n",
       "  <tbody>\n",
       "    <tr>\n",
       "      <th>0</th>\n",
       "      <td>David</td>\n",
       "      <td>25</td>\n",
       "    </tr>\n",
       "    <tr>\n",
       "      <th>1</th>\n",
       "      <td>Eva</td>\n",
       "      <td>24</td>\n",
       "    </tr>\n",
       "    <tr>\n",
       "      <th>2</th>\n",
       "      <td>Frank</td>\n",
       "      <td>26</td>\n",
       "    </tr>\n",
       "  </tbody>\n",
       "</table>\n",
       "</div>"
      ],
      "text/plain": [
       "    Name  Age\n",
       "0  David   25\n",
       "1    Eva   24\n",
       "2  Frank   26"
      ]
     },
     "execution_count": 18,
     "metadata": {},
     "output_type": "execute_result"
    }
   ],
   "source": [
    "my_tuple = ((\"David\", 25), (\"Eva\", 24), (\"Frank\", 26))\n",
    "df_from_tuple = pd.DataFrame(my_tuple, columns=[\"Name\", \"Age\"])\n",
    "df_from_tuple"
   ]
  },
  {
   "cell_type": "code",
   "execution_count": 19,
   "id": "754091f4",
   "metadata": {},
   "outputs": [
    {
     "data": {
      "text/html": [
       "<div>\n",
       "<style scoped>\n",
       "    .dataframe tbody tr th:only-of-type {\n",
       "        vertical-align: middle;\n",
       "    }\n",
       "\n",
       "    .dataframe tbody tr th {\n",
       "        vertical-align: top;\n",
       "    }\n",
       "\n",
       "    .dataframe thead th {\n",
       "        text-align: right;\n",
       "    }\n",
       "</style>\n",
       "<table border=\"1\" class=\"dataframe\">\n",
       "  <thead>\n",
       "    <tr style=\"text-align: right;\">\n",
       "      <th></th>\n",
       "      <th>Name</th>\n",
       "      <th>Age</th>\n",
       "    </tr>\n",
       "  </thead>\n",
       "  <tbody>\n",
       "    <tr>\n",
       "      <th>0</th>\n",
       "      <td>George</td>\n",
       "      <td>27</td>\n",
       "    </tr>\n",
       "    <tr>\n",
       "      <th>1</th>\n",
       "      <td>Hannah</td>\n",
       "      <td>26</td>\n",
       "    </tr>\n",
       "    <tr>\n",
       "      <th>2</th>\n",
       "      <td>Ian</td>\n",
       "      <td>28</td>\n",
       "    </tr>\n",
       "  </tbody>\n",
       "</table>\n",
       "</div>"
      ],
      "text/plain": [
       "     Name  Age\n",
       "0  George   27\n",
       "1  Hannah   26\n",
       "2     Ian   28"
      ]
     },
     "execution_count": 19,
     "metadata": {},
     "output_type": "execute_result"
    }
   ],
   "source": [
    "my_dictionary = {\n",
    "    \"Name\": [\"George\", \"Hannah\", \"Ian\"],\n",
    "    \"Age\": [27, 26, 28]\n",
    "}\n",
    "df_from_dict = pd.DataFrame(my_dictionary)\n",
    "df_from_dict"
   ]
  },
  {
   "cell_type": "code",
   "execution_count": 21,
   "id": "0129ba3b",
   "metadata": {},
   "outputs": [
    {
     "data": {
      "text/html": [
       "<div>\n",
       "<style scoped>\n",
       "    .dataframe tbody tr th:only-of-type {\n",
       "        vertical-align: middle;\n",
       "    }\n",
       "\n",
       "    .dataframe tbody tr th {\n",
       "        vertical-align: top;\n",
       "    }\n",
       "\n",
       "    .dataframe thead th {\n",
       "        text-align: right;\n",
       "    }\n",
       "</style>\n",
       "<table border=\"1\" class=\"dataframe\">\n",
       "  <thead>\n",
       "    <tr style=\"text-align: right;\">\n",
       "      <th></th>\n",
       "      <th>Name</th>\n",
       "      <th>Age</th>\n",
       "      <th>City</th>\n",
       "    </tr>\n",
       "  </thead>\n",
       "  <tbody>\n",
       "    <tr>\n",
       "      <th>0</th>\n",
       "      <td>John</td>\n",
       "      <td>28</td>\n",
       "      <td>New York</td>\n",
       "    </tr>\n",
       "    <tr>\n",
       "      <th>1</th>\n",
       "      <td>Anna</td>\n",
       "      <td>22</td>\n",
       "      <td>London</td>\n",
       "    </tr>\n",
       "    <tr>\n",
       "      <th>2</th>\n",
       "      <td>Mike</td>\n",
       "      <td>32</td>\n",
       "      <td>NaN</td>\n",
       "    </tr>\n",
       "  </tbody>\n",
       "</table>\n",
       "</div>"
      ],
      "text/plain": [
       "   Name  Age      City\n",
       "0  John   28  New York\n",
       "1  Anna   22    London\n",
       "2  Mike   32       NaN"
      ]
     },
     "execution_count": 21,
     "metadata": {},
     "output_type": "execute_result"
    }
   ],
   "source": [
    "my_data =[\n",
    "    {\"Name\": \"John\", \"Age\": 28, \"City\": \"New York\"},\n",
    "    {\"Name\": \"Anna\", \"Age\": 22, \"City\": \"London\"},\n",
    "    {\"Name\": \"Mike\", \"Age\": 32}\n",
    "]\n",
    "df_from_data = pd.DataFrame(my_data)\n",
    "df_from_data"
   ]
  }
 ],
 "metadata": {
  "kernelspec": {
   "display_name": "Python 3",
   "language": "python",
   "name": "python3"
  },
  "language_info": {
   "codemirror_mode": {
    "name": "ipython",
    "version": 3
   },
   "file_extension": ".py",
   "mimetype": "text/x-python",
   "name": "python",
   "nbconvert_exporter": "python",
   "pygments_lexer": "ipython3",
   "version": "3.13.7"
  }
 },
 "nbformat": 4,
 "nbformat_minor": 5
}
