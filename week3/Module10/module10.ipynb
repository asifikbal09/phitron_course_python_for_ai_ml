{
 "cells": [
  {
   "cell_type": "markdown",
   "id": "ffb9c493",
   "metadata": {},
   "source": [
    "## Video 2"
   ]
  },
  {
   "cell_type": "code",
   "execution_count": 2,
   "id": "2f5ebb86",
   "metadata": {},
   "outputs": [
    {
     "name": "stdout",
     "output_type": "stream",
     "text": [
      "[1, 2, 3, 1, 2, 3, 1, 2, 3, 1, 2, 3, 1, 2, 3]\n",
      "[5, 10, 15]\n"
     ]
    }
   ],
   "source": [
    "arr = [1,2,3]\n",
    "print(arr*5)\n",
    "\n",
    "arr = [x*5 for x in arr]\n",
    "print(arr)"
   ]
  },
  {
   "cell_type": "code",
   "execution_count": 3,
   "id": "a84eef31",
   "metadata": {},
   "outputs": [
    {
     "name": "stdout",
     "output_type": "stream",
     "text": [
      "[ 5 10 15]\n"
     ]
    }
   ],
   "source": [
    "import numpy as np\n",
    "\n",
    "arr = np.array([1,2,3])\n",
    "print(arr*5)"
   ]
  },
  {
   "cell_type": "code",
   "execution_count": null,
   "id": "52d589bc",
   "metadata": {},
   "outputs": [],
   "source": []
  },
  {
   "cell_type": "markdown",
   "id": "68b374b6",
   "metadata": {},
   "source": [
    "### Nd array"
   ]
  },
  {
   "cell_type": "code",
   "execution_count": 4,
   "id": "8a04844a",
   "metadata": {},
   "outputs": [
    {
     "name": "stdout",
     "output_type": "stream",
     "text": [
      "<class 'numpy.ndarray'>\n",
      "1\n",
      "2\n"
     ]
    }
   ],
   "source": [
    "import numpy as np\n",
    "\n",
    "#1D array\n",
    "arr1 = np.array([1,2,3])\n",
    "\n",
    "print(type(arr1))\n",
    "print(arr1.ndim)\n",
    "\n",
    "#2D array\n",
    "arr2 = np.array([\n",
    "    [1,2,3], #row\n",
    "    [4,5,6] # col\n",
    "])\n",
    "\n",
    "print(arr2.ndim)\n",
    "\n",
    "# 3D array\n",
    "arr3 = np.array([\n",
    "    [\n",
    "        [1,2,3],\n",
    "        [4,5,6]\n",
    "    ],\n",
    "    [\n",
    "        [1,2,3],\n",
    "    [4,5,6]\n",
    "    ]\n",
    "])"
   ]
  },
  {
   "cell_type": "markdown",
   "id": "5d574420",
   "metadata": {},
   "source": [
    "### Attributes"
   ]
  },
  {
   "cell_type": "code",
   "execution_count": 5,
   "id": "4eea6817",
   "metadata": {},
   "outputs": [
    {
     "name": "stdout",
     "output_type": "stream",
     "text": [
      "1\n",
      "2\n",
      "3\n",
      "(3,)\n",
      "(2, 3)\n",
      "(2, 2, 3)\n",
      "int64\n",
      "int64\n",
      "int64\n",
      "3\n",
      "6\n",
      "12\n"
     ]
    }
   ],
   "source": [
    "#Dimension\n",
    "print(arr1.ndim)\n",
    "print(arr2.ndim)\n",
    "print(arr3.ndim)\n",
    "\n",
    "#Shape\n",
    "print(arr1.shape)\n",
    "print(arr2.shape)\n",
    "print(arr3.shape)\n",
    "\n",
    "#Data type\n",
    "print(arr1.dtype)\n",
    "print(arr2.dtype)\n",
    "print(arr3.dtype)\n",
    "\n",
    "#size\n",
    "print(arr1.size)\n",
    "print(arr2.size)\n",
    "print(arr3.size)"
   ]
  },
  {
   "cell_type": "markdown",
   "id": "206962ec",
   "metadata": {},
   "source": [
    "## Video 3"
   ]
  },
  {
   "cell_type": "markdown",
   "id": "1d36cd11",
   "metadata": {},
   "source": [
    "### nd array datatype"
   ]
  },
  {
   "cell_type": "code",
   "execution_count": 6,
   "id": "94db3013",
   "metadata": {},
   "outputs": [
    {
     "name": "stdout",
     "output_type": "stream",
     "text": [
      "int64\n",
      "float64\n"
     ]
    }
   ],
   "source": [
    "arr = np.array([1,2,3])\n",
    "\n",
    "print(arr.dtype)\n",
    "\n",
    "arr = np.array([1.4,2.5,3.6])\n",
    "\n",
    "print(arr.dtype)"
   ]
  },
  {
   "cell_type": "code",
   "execution_count": 7,
   "id": "d1560ff8",
   "metadata": {},
   "outputs": [
    {
     "name": "stdout",
     "output_type": "stream",
     "text": [
      "float64\n",
      "<U32\n"
     ]
    }
   ],
   "source": [
    "#upcasted to float\n",
    "\n",
    "arr = np.array([1,2,3.5])\n",
    "\n",
    "print(arr.dtype)\n",
    "\n",
    "#upcasted to string\n",
    "arr = np.array([1,2,3.5,'5'])\n",
    "\n",
    "print(arr.dtype)"
   ]
  },
  {
   "cell_type": "markdown",
   "id": "1f9898ff",
   "metadata": {},
   "source": [
    "#### selecting a data type for a nd array"
   ]
  },
  {
   "cell_type": "code",
   "execution_count": 8,
   "id": "8f21186e",
   "metadata": {},
   "outputs": [
    {
     "name": "stdout",
     "output_type": "stream",
     "text": [
      "int16\n",
      "int32\n"
     ]
    }
   ],
   "source": [
    "arr = np.array([1,2,3], dtype=np.int16)\n",
    "print(arr.dtype)\n",
    "arr = arr.astype(np.int32)\n",
    "\n",
    "print(arr.dtype)"
   ]
  },
  {
   "cell_type": "markdown",
   "id": "be9f8312",
   "metadata": {},
   "source": [
    "## Video 4"
   ]
  },
  {
   "cell_type": "markdown",
   "id": "d6bca79b",
   "metadata": {},
   "source": [
    "#### nd array creation from existing data."
   ]
  },
  {
   "cell_type": "code",
   "execution_count": 9,
   "id": "ca21c5ee",
   "metadata": {},
   "outputs": [
    {
     "name": "stdout",
     "output_type": "stream",
     "text": [
      "[10 20 30 40 40]\n",
      "<class 'numpy.ndarray'>\n",
      "int64\n",
      "['19' '13.5' 'True' 'hello']\n",
      "<class 'numpy.ndarray'>\n",
      "<U32\n",
      "[[1 2 3]\n",
      " [4 5 6]]\n",
      "<class 'numpy.ndarray'>\n",
      "int64\n",
      "(2, 3)\n",
      "2\n"
     ]
    }
   ],
   "source": [
    "#list\n",
    "lst = [10,20,30,40,40.5]\n",
    "\n",
    "arr = np.array(lst,dtype=np.int64)\n",
    "\n",
    "print(arr)\n",
    "print(type(arr))\n",
    "print(arr.dtype)\n",
    "\n",
    "mixed_list = [19,13.5,True,\"hello\"]\n",
    "\n",
    "arr = np.array(mixed_list)\n",
    "# arr = np.array(mixed_list,dtype=np.int64) #error\n",
    "\n",
    "print(arr)\n",
    "print(type(arr))\n",
    "print(arr.dtype)\n",
    "\n",
    "matrix = np.array([\n",
    "    [1,2,3], #row\n",
    "    [4,5,6] # col\n",
    "])\n",
    "\n",
    "arr = np.array(matrix)\n",
    "\n",
    "print(arr)\n",
    "print(type(arr))\n",
    "print(arr.dtype)\n",
    "print(arr.shape)\n",
    "print(arr.ndim)\n"
   ]
  },
  {
   "cell_type": "code",
   "execution_count": 10,
   "id": "fb73d701",
   "metadata": {},
   "outputs": [
    {
     "name": "stdout",
     "output_type": "stream",
     "text": [
      "[1 3 5 6]\n",
      "<class 'numpy.ndarray'>\n",
      "int64\n",
      "(4,)\n",
      "1\n"
     ]
    }
   ],
   "source": [
    "#tuple\n",
    "tpl = (1,3,5,6)\n",
    "\n",
    "arr = np.array(tpl)\n",
    "print(arr)\n",
    "print(type(arr))\n",
    "print(arr.dtype)\n",
    "print(arr.shape)\n",
    "print(arr.ndim)"
   ]
  },
  {
   "cell_type": "code",
   "execution_count": 11,
   "id": "74a934fa",
   "metadata": {},
   "outputs": [
    {
     "name": "stdout",
     "output_type": "stream",
     "text": [
      "[1 2 3]\n",
      "<class 'numpy.ndarray'>\n",
      "int64\n",
      "(3,)\n",
      "1\n"
     ]
    }
   ],
   "source": [
    "#set\n",
    "st = {1,2,3}\n",
    "#we can't pass set directly like list and tuple we have to convert in list then pass in nd array.\n",
    "arr = np.array(list(st))\n",
    "print(arr)\n",
    "print(type(arr))\n",
    "print(arr.dtype)\n",
    "print(arr.shape)\n",
    "print(arr.ndim)"
   ]
  },
  {
   "cell_type": "code",
   "execution_count": 12,
   "id": "9e8c99b9",
   "metadata": {},
   "outputs": [
    {
     "name": "stdout",
     "output_type": "stream",
     "text": [
      "dict_keys(['a', 'b', 'c'])\n",
      "dict_values([10, 20, 30])\n",
      "dict_items([('a', 10), ('b', 20), ('c', 30)])\n"
     ]
    }
   ],
   "source": [
    "#dictionary\n",
    "dc = {\n",
    "    \"a\":10,\n",
    "    \"b\":20,\n",
    "    \"c\":30\n",
    "}\n",
    "\n",
    "keys = dc.keys()\n",
    "values = dc.values()\n",
    "items = dc.items()\n",
    "\n",
    "print(keys)\n",
    "print(values)\n",
    "print(items)"
   ]
  },
  {
   "cell_type": "code",
   "execution_count": 13,
   "id": "dde457af",
   "metadata": {},
   "outputs": [
    {
     "name": "stdout",
     "output_type": "stream",
     "text": [
      "['a' 'b' 'c']\n",
      "<class 'numpy.ndarray'>\n",
      "<U1\n",
      "(3,)\n",
      "1\n"
     ]
    }
   ],
   "source": [
    "# keys to nd array\n",
    "arr = np.array(list(keys))\n",
    "\n",
    "print(arr)\n",
    "print(type(arr))\n",
    "print(arr.dtype)\n",
    "print(arr.shape)\n",
    "print(arr.ndim)"
   ]
  },
  {
   "cell_type": "code",
   "execution_count": 14,
   "id": "ee0653a1",
   "metadata": {},
   "outputs": [
    {
     "name": "stdout",
     "output_type": "stream",
     "text": [
      "[10 20 30]\n",
      "<class 'numpy.ndarray'>\n",
      "int64\n",
      "(3,)\n",
      "1\n"
     ]
    }
   ],
   "source": [
    "# values to nd array\n",
    "arr = np.array(list(values))\n",
    "\n",
    "print(arr)\n",
    "print(type(arr))\n",
    "print(arr.dtype)\n",
    "print(arr.shape)\n",
    "print(arr.ndim)"
   ]
  },
  {
   "cell_type": "code",
   "execution_count": 15,
   "id": "af195d7b",
   "metadata": {},
   "outputs": [
    {
     "name": "stdout",
     "output_type": "stream",
     "text": [
      "[['a' '10']\n",
      " ['b' '20']\n",
      " ['c' '30']]\n",
      "<class 'numpy.ndarray'>\n",
      "<U21\n",
      "(3, 2)\n",
      "2\n"
     ]
    }
   ],
   "source": [
    "# items to nd array\n",
    "arr = np.array(list(items))\n",
    "\n",
    "print(arr)\n",
    "print(type(arr))\n",
    "print(arr.dtype)\n",
    "print(arr.shape)\n",
    "print(arr.ndim)"
   ]
  },
  {
   "cell_type": "markdown",
   "id": "1faf74a0",
   "metadata": {},
   "source": [
    "## Video 5"
   ]
  },
  {
   "cell_type": "markdown",
   "id": "1d25df38",
   "metadata": {},
   "source": [
    "#### nd array creation from scratch"
   ]
  },
  {
   "cell_type": "code",
   "execution_count": 17,
   "id": "cb3b0b55",
   "metadata": {},
   "outputs": [
    {
     "name": "stdout",
     "output_type": "stream",
     "text": [
      "[[0. 0. 0. 0. 0.]]\n",
      "<class 'numpy.ndarray'>\n",
      "float64\n",
      "(1, 5)\n",
      "2\n",
      "[[[0 0 0]\n",
      "  [0 0 0]]\n",
      "\n",
      " [[0 0 0]\n",
      "  [0 0 0]]]\n",
      "(2, 2, 3)\n"
     ]
    }
   ],
   "source": [
    "#np array zeros\n",
    "\n",
    "arr = np.zeros((1,5))\n",
    "print(arr)\n",
    "print(type(arr))\n",
    "print(arr.dtype)\n",
    "print(arr.shape)\n",
    "print(arr.ndim)\n",
    "\n",
    "arr = np.zeros_like(arr3)\n",
    "print(arr)\n",
    "print(arr.shape)"
   ]
  },
  {
   "cell_type": "code",
   "execution_count": 18,
   "id": "e37d4c09",
   "metadata": {},
   "outputs": [
    {
     "name": "stdout",
     "output_type": "stream",
     "text": [
      "[[1. 1. 1. 1. 1.]]\n",
      "<class 'numpy.ndarray'>\n",
      "float64\n",
      "(1, 5)\n",
      "2\n",
      "[[[1 1 1]\n",
      "  [1 1 1]]\n",
      "\n",
      " [[1 1 1]\n",
      "  [1 1 1]]]\n",
      "(2, 2, 3)\n"
     ]
    }
   ],
   "source": [
    "#np array ones\n",
    "\n",
    "arr = np.ones((1,5))\n",
    "print(arr)\n",
    "print(type(arr))\n",
    "print(arr.dtype)\n",
    "print(arr.shape)\n",
    "print(arr.ndim)\n",
    "\n",
    "arr = np.ones_like(arr3)\n",
    "print(arr)\n",
    "print(arr.shape)"
   ]
  },
  {
   "cell_type": "code",
   "execution_count": 27,
   "id": "79d61b15",
   "metadata": {},
   "outputs": [
    {
     "name": "stdout",
     "output_type": "stream",
     "text": [
      "[[1. 1. 1. 1. 1.]]\n",
      "<class 'numpy.ndarray'>\n",
      "float64\n",
      "(1, 5)\n",
      "2\n",
      "[[[1 1 1]\n",
      "  [1 1 1]]\n",
      "\n",
      " [[1 1 1]\n",
      "  [1 1 1]]]\n",
      "(2, 2, 3)\n"
     ]
    }
   ],
   "source": [
    "#np array empty\n",
    "\n",
    "arr = np.empty((1,5))\n",
    "print(arr)\n",
    "print(type(arr))\n",
    "print(arr.dtype)\n",
    "print(arr.shape)\n",
    "print(arr.ndim)\n",
    "\n",
    "arr = np.empty_like(arr3)\n",
    "print(arr)\n",
    "print(arr.shape)"
   ]
  },
  {
   "cell_type": "code",
   "execution_count": 28,
   "id": "f3812503",
   "metadata": {},
   "outputs": [
    {
     "name": "stdout",
     "output_type": "stream",
     "text": [
      "[[7 7 7 7 7]]\n",
      "<class 'numpy.ndarray'>\n",
      "int64\n",
      "(1, 5)\n",
      "2\n",
      "[[[30 30 30]\n",
      "  [30 30 30]]\n",
      "\n",
      " [[30 30 30]\n",
      "  [30 30 30]]]\n",
      "(2, 2, 3)\n"
     ]
    }
   ],
   "source": [
    "#np array full\n",
    "\n",
    "arr = np.full((1,5),7)\n",
    "print(arr)\n",
    "print(type(arr))\n",
    "print(arr.dtype)\n",
    "print(arr.shape)\n",
    "print(arr.ndim)\n",
    "\n",
    "arr = np.full_like(arr3,30)\n",
    "print(arr)\n",
    "print(arr.shape)"
   ]
  }
 ],
 "metadata": {
  "kernelspec": {
   "display_name": "Python 3",
   "language": "python",
   "name": "python3"
  },
  "language_info": {
   "codemirror_mode": {
    "name": "ipython",
    "version": 3
   },
   "file_extension": ".py",
   "mimetype": "text/x-python",
   "name": "python",
   "nbconvert_exporter": "python",
   "pygments_lexer": "ipython3",
   "version": "3.13.7"
  }
 },
 "nbformat": 4,
 "nbformat_minor": 5
}
