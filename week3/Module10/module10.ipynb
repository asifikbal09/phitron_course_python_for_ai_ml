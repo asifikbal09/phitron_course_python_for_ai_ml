{
 "cells": [
  {
   "cell_type": "markdown",
   "id": "ffb9c493",
   "metadata": {},
   "source": [
    "## Video 2"
   ]
  },
  {
   "cell_type": "code",
   "execution_count": 2,
   "id": "2f5ebb86",
   "metadata": {},
   "outputs": [
    {
     "name": "stdout",
     "output_type": "stream",
     "text": [
      "[1, 2, 3, 1, 2, 3, 1, 2, 3, 1, 2, 3, 1, 2, 3]\n",
      "[5, 10, 15]\n"
     ]
    }
   ],
   "source": [
    "arr = [1,2,3]\n",
    "print(arr*5)\n",
    "\n",
    "arr = [x*5 for x in arr]\n",
    "print(arr)"
   ]
  },
  {
   "cell_type": "code",
   "execution_count": 3,
   "id": "a84eef31",
   "metadata": {},
   "outputs": [
    {
     "name": "stdout",
     "output_type": "stream",
     "text": [
      "[ 5 10 15]\n"
     ]
    }
   ],
   "source": [
    "import numpy as np\n",
    "\n",
    "arr = np.array([1,2,3])\n",
    "print(arr*5)"
   ]
  },
  {
   "cell_type": "code",
   "execution_count": null,
   "id": "52d589bc",
   "metadata": {},
   "outputs": [],
   "source": []
  },
  {
   "cell_type": "markdown",
   "id": "68b374b6",
   "metadata": {},
   "source": [
    "### Nd array"
   ]
  },
  {
   "cell_type": "code",
   "execution_count": 4,
   "id": "8a04844a",
   "metadata": {},
   "outputs": [
    {
     "name": "stdout",
     "output_type": "stream",
     "text": [
      "<class 'numpy.ndarray'>\n",
      "1\n",
      "2\n"
     ]
    }
   ],
   "source": [
    "import numpy as np\n",
    "\n",
    "#1D array\n",
    "arr1 = np.array([1,2,3])\n",
    "\n",
    "print(type(arr1))\n",
    "print(arr1.ndim)\n",
    "\n",
    "#2D array\n",
    "arr2 = np.array([\n",
    "    [1,2,3], #row\n",
    "    [4,5,6] # col\n",
    "])\n",
    "\n",
    "print(arr2.ndim)\n",
    "\n",
    "# 3D array\n",
    "arr3 = np.array([\n",
    "    [\n",
    "        [1,2,3],\n",
    "        [4,5,6]\n",
    "    ],\n",
    "    [\n",
    "        [1,2,3],\n",
    "    [4,5,6]\n",
    "    ]\n",
    "])"
   ]
  },
  {
   "cell_type": "markdown",
   "id": "5d574420",
   "metadata": {},
   "source": [
    "### Attributes"
   ]
  },
  {
   "cell_type": "code",
   "execution_count": 5,
   "id": "4eea6817",
   "metadata": {},
   "outputs": [
    {
     "name": "stdout",
     "output_type": "stream",
     "text": [
      "1\n",
      "2\n",
      "3\n",
      "(3,)\n",
      "(2, 3)\n",
      "(2, 2, 3)\n",
      "int64\n",
      "int64\n",
      "int64\n",
      "3\n",
      "6\n",
      "12\n"
     ]
    }
   ],
   "source": [
    "#Dimension\n",
    "print(arr1.ndim)\n",
    "print(arr2.ndim)\n",
    "print(arr3.ndim)\n",
    "\n",
    "#Shape\n",
    "print(arr1.shape)\n",
    "print(arr2.shape)\n",
    "print(arr3.shape)\n",
    "\n",
    "#Data type\n",
    "print(arr1.dtype)\n",
    "print(arr2.dtype)\n",
    "print(arr3.dtype)\n",
    "\n",
    "#size\n",
    "print(arr1.size)\n",
    "print(arr2.size)\n",
    "print(arr3.size)"
   ]
  },
  {
   "cell_type": "markdown",
   "id": "206962ec",
   "metadata": {},
   "source": [
    "## Video 3"
   ]
  },
  {
   "cell_type": "markdown",
   "id": "1d36cd11",
   "metadata": {},
   "source": [
    "### nd array datatype"
   ]
  },
  {
   "cell_type": "code",
   "execution_count": 6,
   "id": "94db3013",
   "metadata": {},
   "outputs": [
    {
     "name": "stdout",
     "output_type": "stream",
     "text": [
      "int64\n",
      "float64\n"
     ]
    }
   ],
   "source": [
    "arr = np.array([1,2,3])\n",
    "\n",
    "print(arr.dtype)\n",
    "\n",
    "arr = np.array([1.4,2.5,3.6])\n",
    "\n",
    "print(arr.dtype)"
   ]
  },
  {
   "cell_type": "code",
   "execution_count": 7,
   "id": "d1560ff8",
   "metadata": {},
   "outputs": [
    {
     "name": "stdout",
     "output_type": "stream",
     "text": [
      "float64\n",
      "<U32\n"
     ]
    }
   ],
   "source": [
    "#upcasted to float\n",
    "\n",
    "arr = np.array([1,2,3.5])\n",
    "\n",
    "print(arr.dtype)\n",
    "\n",
    "#upcasted to string\n",
    "arr = np.array([1,2,3.5,'5'])\n",
    "\n",
    "print(arr.dtype)"
   ]
  },
  {
   "cell_type": "markdown",
   "id": "1f9898ff",
   "metadata": {},
   "source": [
    "#### selecting a data type for a nd array"
   ]
  },
  {
   "cell_type": "code",
   "execution_count": 8,
   "id": "8f21186e",
   "metadata": {},
   "outputs": [
    {
     "name": "stdout",
     "output_type": "stream",
     "text": [
      "int16\n",
      "int32\n"
     ]
    }
   ],
   "source": [
    "arr = np.array([1,2,3], dtype=np.int16)\n",
    "print(arr.dtype)\n",
    "arr = arr.astype(np.int32)\n",
    "\n",
    "print(arr.dtype)"
   ]
  },
  {
   "cell_type": "markdown",
   "id": "be9f8312",
   "metadata": {},
   "source": [
    "## Video 4"
   ]
  },
  {
   "cell_type": "markdown",
   "id": "d6bca79b",
   "metadata": {},
   "source": [
    "#### nd array creation from existing data."
   ]
  },
  {
   "cell_type": "code",
   "execution_count": 9,
   "id": "ca21c5ee",
   "metadata": {},
   "outputs": [
    {
     "name": "stdout",
     "output_type": "stream",
     "text": [
      "[10 20 30 40 40]\n",
      "<class 'numpy.ndarray'>\n",
      "int64\n",
      "['19' '13.5' 'True' 'hello']\n",
      "<class 'numpy.ndarray'>\n",
      "<U32\n",
      "[[1 2 3]\n",
      " [4 5 6]]\n",
      "<class 'numpy.ndarray'>\n",
      "int64\n",
      "(2, 3)\n",
      "2\n"
     ]
    }
   ],
   "source": [
    "#list\n",
    "lst = [10,20,30,40,40.5]\n",
    "\n",
    "arr = np.array(lst,dtype=np.int64)\n",
    "\n",
    "print(arr)\n",
    "print(type(arr))\n",
    "print(arr.dtype)\n",
    "\n",
    "mixed_list = [19,13.5,True,\"hello\"]\n",
    "\n",
    "arr = np.array(mixed_list)\n",
    "# arr = np.array(mixed_list,dtype=np.int64) #error\n",
    "\n",
    "print(arr)\n",
    "print(type(arr))\n",
    "print(arr.dtype)\n",
    "\n",
    "matrix = np.array([\n",
    "    [1,2,3], #row\n",
    "    [4,5,6] # col\n",
    "])\n",
    "\n",
    "arr = np.array(matrix)\n",
    "\n",
    "print(arr)\n",
    "print(type(arr))\n",
    "print(arr.dtype)\n",
    "print(arr.shape)\n",
    "print(arr.ndim)\n"
   ]
  },
  {
   "cell_type": "code",
   "execution_count": 10,
   "id": "fb73d701",
   "metadata": {},
   "outputs": [
    {
     "name": "stdout",
     "output_type": "stream",
     "text": [
      "[1 3 5 6]\n",
      "<class 'numpy.ndarray'>\n",
      "int64\n",
      "(4,)\n",
      "1\n"
     ]
    }
   ],
   "source": [
    "#tuple\n",
    "tpl = (1,3,5,6)\n",
    "\n",
    "arr = np.array(tpl)\n",
    "print(arr)\n",
    "print(type(arr))\n",
    "print(arr.dtype)\n",
    "print(arr.shape)\n",
    "print(arr.ndim)"
   ]
  },
  {
   "cell_type": "code",
   "execution_count": 11,
   "id": "74a934fa",
   "metadata": {},
   "outputs": [
    {
     "name": "stdout",
     "output_type": "stream",
     "text": [
      "[1 2 3]\n",
      "<class 'numpy.ndarray'>\n",
      "int64\n",
      "(3,)\n",
      "1\n"
     ]
    }
   ],
   "source": [
    "#set\n",
    "st = {1,2,3}\n",
    "#we can't pass set directly like list and tuple we have to convert in list then pass in nd array.\n",
    "arr = np.array(list(st))\n",
    "print(arr)\n",
    "print(type(arr))\n",
    "print(arr.dtype)\n",
    "print(arr.shape)\n",
    "print(arr.ndim)"
   ]
  },
  {
   "cell_type": "code",
   "execution_count": 12,
   "id": "9e8c99b9",
   "metadata": {},
   "outputs": [
    {
     "name": "stdout",
     "output_type": "stream",
     "text": [
      "dict_keys(['a', 'b', 'c'])\n",
      "dict_values([10, 20, 30])\n",
      "dict_items([('a', 10), ('b', 20), ('c', 30)])\n"
     ]
    }
   ],
   "source": [
    "#dictionary\n",
    "dc = {\n",
    "    \"a\":10,\n",
    "    \"b\":20,\n",
    "    \"c\":30\n",
    "}\n",
    "\n",
    "keys = dc.keys()\n",
    "values = dc.values()\n",
    "items = dc.items()\n",
    "\n",
    "print(keys)\n",
    "print(values)\n",
    "print(items)"
   ]
  },
  {
   "cell_type": "code",
   "execution_count": 13,
   "id": "dde457af",
   "metadata": {},
   "outputs": [
    {
     "name": "stdout",
     "output_type": "stream",
     "text": [
      "['a' 'b' 'c']\n",
      "<class 'numpy.ndarray'>\n",
      "<U1\n",
      "(3,)\n",
      "1\n"
     ]
    }
   ],
   "source": [
    "# keys to nd array\n",
    "arr = np.array(list(keys))\n",
    "\n",
    "print(arr)\n",
    "print(type(arr))\n",
    "print(arr.dtype)\n",
    "print(arr.shape)\n",
    "print(arr.ndim)"
   ]
  },
  {
   "cell_type": "code",
   "execution_count": 14,
   "id": "ee0653a1",
   "metadata": {},
   "outputs": [
    {
     "name": "stdout",
     "output_type": "stream",
     "text": [
      "[10 20 30]\n",
      "<class 'numpy.ndarray'>\n",
      "int64\n",
      "(3,)\n",
      "1\n"
     ]
    }
   ],
   "source": [
    "# values to nd array\n",
    "arr = np.array(list(values))\n",
    "\n",
    "print(arr)\n",
    "print(type(arr))\n",
    "print(arr.dtype)\n",
    "print(arr.shape)\n",
    "print(arr.ndim)"
   ]
  },
  {
   "cell_type": "code",
   "execution_count": 15,
   "id": "af195d7b",
   "metadata": {},
   "outputs": [
    {
     "name": "stdout",
     "output_type": "stream",
     "text": [
      "[['a' '10']\n",
      " ['b' '20']\n",
      " ['c' '30']]\n",
      "<class 'numpy.ndarray'>\n",
      "<U21\n",
      "(3, 2)\n",
      "2\n"
     ]
    }
   ],
   "source": [
    "# items to nd array\n",
    "arr = np.array(list(items))\n",
    "\n",
    "print(arr)\n",
    "print(type(arr))\n",
    "print(arr.dtype)\n",
    "print(arr.shape)\n",
    "print(arr.ndim)"
   ]
  },
  {
   "cell_type": "markdown",
   "id": "1faf74a0",
   "metadata": {},
   "source": [
    "## Video 5"
   ]
  },
  {
   "cell_type": "markdown",
   "id": "1d25df38",
   "metadata": {},
   "source": [
    "#### nd array creation from scratch"
   ]
  },
  {
   "cell_type": "code",
   "execution_count": 17,
   "id": "cb3b0b55",
   "metadata": {},
   "outputs": [
    {
     "name": "stdout",
     "output_type": "stream",
     "text": [
      "[[0. 0. 0. 0. 0.]]\n",
      "<class 'numpy.ndarray'>\n",
      "float64\n",
      "(1, 5)\n",
      "2\n",
      "[[[0 0 0]\n",
      "  [0 0 0]]\n",
      "\n",
      " [[0 0 0]\n",
      "  [0 0 0]]]\n",
      "(2, 2, 3)\n"
     ]
    }
   ],
   "source": [
    "#np array zeros\n",
    "\n",
    "arr = np.zeros((1,5))\n",
    "print(arr)\n",
    "print(type(arr))\n",
    "print(arr.dtype)\n",
    "print(arr.shape)\n",
    "print(arr.ndim)\n",
    "\n",
    "arr = np.zeros_like(arr3)\n",
    "print(arr)\n",
    "print(arr.shape)"
   ]
  },
  {
   "cell_type": "code",
   "execution_count": 18,
   "id": "e37d4c09",
   "metadata": {},
   "outputs": [
    {
     "name": "stdout",
     "output_type": "stream",
     "text": [
      "[[1. 1. 1. 1. 1.]]\n",
      "<class 'numpy.ndarray'>\n",
      "float64\n",
      "(1, 5)\n",
      "2\n",
      "[[[1 1 1]\n",
      "  [1 1 1]]\n",
      "\n",
      " [[1 1 1]\n",
      "  [1 1 1]]]\n",
      "(2, 2, 3)\n"
     ]
    }
   ],
   "source": [
    "#np array ones\n",
    "\n",
    "arr = np.ones((1,5))\n",
    "print(arr)\n",
    "print(type(arr))\n",
    "print(arr.dtype)\n",
    "print(arr.shape)\n",
    "print(arr.ndim)\n",
    "\n",
    "arr = np.ones_like(arr3)\n",
    "print(arr)\n",
    "print(arr.shape)"
   ]
  },
  {
   "cell_type": "code",
   "execution_count": 27,
   "id": "79d61b15",
   "metadata": {},
   "outputs": [
    {
     "name": "stdout",
     "output_type": "stream",
     "text": [
      "[[1. 1. 1. 1. 1.]]\n",
      "<class 'numpy.ndarray'>\n",
      "float64\n",
      "(1, 5)\n",
      "2\n",
      "[[[1 1 1]\n",
      "  [1 1 1]]\n",
      "\n",
      " [[1 1 1]\n",
      "  [1 1 1]]]\n",
      "(2, 2, 3)\n"
     ]
    }
   ],
   "source": [
    "#np array empty\n",
    "\n",
    "arr = np.empty((1,5))\n",
    "print(arr)\n",
    "print(type(arr))\n",
    "print(arr.dtype)\n",
    "print(arr.shape)\n",
    "print(arr.ndim)\n",
    "\n",
    "arr = np.empty_like(arr3)\n",
    "print(arr)\n",
    "print(arr.shape)"
   ]
  },
  {
   "cell_type": "code",
   "execution_count": 28,
   "id": "f3812503",
   "metadata": {},
   "outputs": [
    {
     "name": "stdout",
     "output_type": "stream",
     "text": [
      "[[7 7 7 7 7]]\n",
      "<class 'numpy.ndarray'>\n",
      "int64\n",
      "(1, 5)\n",
      "2\n",
      "[[[30 30 30]\n",
      "  [30 30 30]]\n",
      "\n",
      " [[30 30 30]\n",
      "  [30 30 30]]]\n",
      "(2, 2, 3)\n"
     ]
    }
   ],
   "source": [
    "#np array full\n",
    "\n",
    "arr = np.full((1,5),7)\n",
    "print(arr)\n",
    "print(type(arr))\n",
    "print(arr.dtype)\n",
    "print(arr.shape)\n",
    "print(arr.ndim)\n",
    "\n",
    "arr = np.full_like(arr3,30)\n",
    "print(arr)\n",
    "print(arr.shape)"
   ]
  },
  {
   "cell_type": "markdown",
   "id": "78d94410",
   "metadata": {},
   "source": [
    "### video 6"
   ]
  },
  {
   "cell_type": "code",
   "execution_count": 30,
   "id": "d74328d2",
   "metadata": {},
   "outputs": [
    {
     "name": "stdout",
     "output_type": "stream",
     "text": [
      "[[0.59095129 0.36569393 0.37820907]\n",
      " [0.08986487 0.49389977 0.17127273]]\n",
      "<class 'numpy.ndarray'>\n",
      "float64\n",
      "(2, 3)\n",
      "2\n",
      "6\n"
     ]
    }
   ],
   "source": [
    "arr = np.random.rand(2,3)\n",
    "print(arr)\n",
    "print(type(arr))\n",
    "print(arr.dtype)\n",
    "print(arr.shape)\n",
    "print(arr.ndim)\n",
    "print(arr.size)"
   ]
  },
  {
   "cell_type": "code",
   "execution_count": 31,
   "id": "12a6f059",
   "metadata": {},
   "outputs": [
    {
     "name": "stdout",
     "output_type": "stream",
     "text": [
      "[[8 3 7 6]\n",
      " [9 4 1 8]\n",
      " [3 3 5 7]\n",
      " [7 9 9 8]\n",
      " [8 6 2 8]]\n",
      "<class 'numpy.ndarray'>\n",
      "int64\n",
      "(5, 4)\n",
      "2\n",
      "20\n"
     ]
    }
   ],
   "source": [
    "arr = np.random.randint(1,10,(5,4))\n",
    "print(arr)\n",
    "print(type(arr))\n",
    "print(arr.dtype)\n",
    "print(arr.shape)\n",
    "print(arr.ndim)\n",
    "print(arr.size)"
   ]
  },
  {
   "cell_type": "code",
   "execution_count": 32,
   "id": "d2326e6a",
   "metadata": {},
   "outputs": [
    {
     "name": "stdout",
     "output_type": "stream",
     "text": [
      "[[4.079142   5.49898543 4.4628105  3.77270061]\n",
      " [6.13291614 6.85221322 1.90130992 2.86302865]\n",
      " [7.77354951 4.85274374 4.00518385 4.21773826]\n",
      " [1.80714802 9.11090285 9.95714488 8.71702958]\n",
      " [6.46847024 8.0058583  1.57407222 7.97605416]]\n",
      "<class 'numpy.ndarray'>\n",
      "float64\n",
      "(5, 4)\n",
      "2\n",
      "20\n"
     ]
    }
   ],
   "source": [
    "arr = np.random.uniform(1,10,(5,4))\n",
    "print(arr)\n",
    "print(type(arr))\n",
    "print(arr.dtype)\n",
    "print(arr.shape)\n",
    "print(arr.ndim)\n",
    "print(arr.size)"
   ]
  },
  {
   "cell_type": "markdown",
   "id": "110337db",
   "metadata": {},
   "source": [
    "### Video 7"
   ]
  },
  {
   "cell_type": "code",
   "execution_count": 35,
   "id": "5027a34d",
   "metadata": {},
   "outputs": [
    {
     "name": "stdout",
     "output_type": "stream",
     "text": [
      "[[1 2 3]\n",
      " [4 5 6]\n",
      " [7 8 9]]\n",
      "<class 'numpy.ndarray'>\n",
      "int64\n",
      "(3, 3)\n",
      "2\n",
      "9\n"
     ]
    }
   ],
   "source": [
    "arr = np.arange(1,10,1).reshape(3,3)\n",
    "print(arr)\n",
    "print(type(arr))\n",
    "print(arr.dtype)\n",
    "print(arr.shape)\n",
    "print(arr.ndim)\n",
    "print(arr.size)"
   ]
  },
  {
   "cell_type": "code",
   "execution_count": null,
   "id": "56875f16",
   "metadata": {},
   "outputs": [
    {
     "name": "stdout",
     "output_type": "stream",
     "text": [
      "[ 1.  2.  3.  4.  5.  6.  7.  8.  9. 10.]\n",
      "<class 'numpy.ndarray'>\n",
      "float64\n",
      "(10,)\n",
      "1\n",
      "10\n"
     ]
    }
   ],
   "source": [
    "arr = np.linspace(1,10,10)\n",
    "print(arr)\n",
    "print(type(arr))\n",
    "print(arr.dtype)\n",
    "print(arr.shape)\n",
    "print(arr.ndim)\n",
    "print(arr.size)"
   ]
  },
  {
   "cell_type": "code",
   "execution_count": 39,
   "id": "4d142728",
   "metadata": {},
   "outputs": [
    {
     "name": "stdout",
     "output_type": "stream",
     "text": [
      "[1.e+01 1.e+02 1.e+03 1.e+04 1.e+05 1.e+06 1.e+07 1.e+08 1.e+09 1.e+10]\n",
      "<class 'numpy.ndarray'>\n",
      "float64\n",
      "(10,)\n",
      "1\n",
      "10\n"
     ]
    }
   ],
   "source": [
    "arr = np.logspace(1,10,10)\n",
    "print(arr)\n",
    "print(type(arr))\n",
    "print(arr.dtype)\n",
    "print(arr.shape)\n",
    "print(arr.ndim)\n",
    "print(arr.size)"
   ]
  },
  {
   "cell_type": "markdown",
   "id": "d3402cd6",
   "metadata": {},
   "source": [
    "### Video 8"
   ]
  },
  {
   "cell_type": "code",
   "execution_count": 40,
   "id": "6b17af7d",
   "metadata": {},
   "outputs": [
    {
     "name": "stdout",
     "output_type": "stream",
     "text": [
      "[[1 0 0]\n",
      " [0 2 0]\n",
      " [0 0 3]]\n",
      "(3, 3)\n"
     ]
    }
   ],
   "source": [
    "#diagonal matrix\n",
    "mat = np.diag([1,2,3])\n",
    "print(mat)\n",
    "\n",
    "print(mat.shape)"
   ]
  },
  {
   "cell_type": "code",
   "execution_count": 45,
   "id": "43c8e012",
   "metadata": {},
   "outputs": [
    {
     "name": "stdout",
     "output_type": "stream",
     "text": [
      "[[1. 0. 0. 0.]\n",
      " [0. 1. 0. 0.]\n",
      " [0. 0. 1. 0.]\n",
      " [0. 0. 0. 1.]]\n",
      "[[1. 0. 0.]\n",
      " [0. 1. 0.]\n",
      " [0. 0. 1.]\n",
      " [0. 0. 0.]]\n",
      "[[0. 1. 0.]\n",
      " [0. 0. 1.]\n",
      " [0. 0. 0.]\n",
      " [0. 0. 0.]]\n",
      "[[0. 0. 0.]\n",
      " [1. 0. 0.]\n",
      " [0. 1. 0.]\n",
      " [0. 0. 1.]]\n"
     ]
    }
   ],
   "source": [
    "# identical matrix\n",
    "mat = np.eye(4)\n",
    "print(mat)\n",
    "\n",
    "#np.eye(row,column,k)\n",
    "\n",
    "mat = np.eye(4,3)\n",
    "print(mat)\n",
    "mat = np.eye(4,3,1)\n",
    "print(mat)\n",
    "mat = np.eye(4,3,-1)\n",
    "print(mat)"
   ]
  }
 ],
 "metadata": {
  "kernelspec": {
   "display_name": "Python 3",
   "language": "python",
   "name": "python3"
  },
  "language_info": {
   "codemirror_mode": {
    "name": "ipython",
    "version": 3
   },
   "file_extension": ".py",
   "mimetype": "text/x-python",
   "name": "python",
   "nbconvert_exporter": "python",
   "pygments_lexer": "ipython3",
   "version": "3.13.7"
  }
 },
 "nbformat": 4,
 "nbformat_minor": 5
}
