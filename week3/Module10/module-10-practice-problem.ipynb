{
 "cells": [
  {
   "cell_type": "code",
   "execution_count": 1,
   "id": "714ce315",
   "metadata": {},
   "outputs": [
    {
     "name": "stdout",
     "output_type": "stream",
     "text": [
      "1.0\n"
     ]
    }
   ],
   "source": [
    "import numpy as np\n",
    "\n",
    "print(np.sin(np.pi/2))"
   ]
  },
  {
   "cell_type": "code",
   "execution_count": 3,
   "id": "a2d22159",
   "metadata": {},
   "outputs": [
    {
     "name": "stdout",
     "output_type": "stream",
     "text": [
      "[[19 22]\n",
      " [43 50]]\n"
     ]
    }
   ],
   "source": [
    "A = np.array([[1, 2], [3, 4]]) \n",
    "B = np.array([[5, 6], [7, 8]])\n",
    "mat = np.dot(A,B)\n",
    "print(mat)"
   ]
  },
  {
   "cell_type": "markdown",
   "id": "9b846ec4",
   "metadata": {},
   "source": [
    "<img src=\"./practice_problem1.png\"/>"
   ]
  },
  {
   "cell_type": "code",
   "execution_count": 1,
   "id": "1fdcbd85",
   "metadata": {},
   "outputs": [
    {
     "name": "stdout",
     "output_type": "stream",
     "text": [
      "[ 32.  68. 104. 140. 212.]\n"
     ]
    }
   ],
   "source": [
    "import numpy as np\n",
    "celsius = [0, 20, 40, 60, 100]\n",
    "\n",
    "cel = np.array(celsius)\n",
    "fahrenheit = cel * 9 / 5 + 32\n",
    "print(fahrenheit)\n",
    "\n"
   ]
  },
  {
   "cell_type": "markdown",
   "id": "86564908",
   "metadata": {},
   "source": [
    "<img src=\"./practice_problem2.png\"/>"
   ]
  },
  {
   "cell_type": "code",
   "execution_count": 7,
   "id": "52fcb9e2",
   "metadata": {},
   "outputs": [
    {
     "name": "stdout",
     "output_type": "stream",
     "text": [
      "[ 80  75  90  85  95 100 110 120 130 140]\n",
      "(10,)\n",
      "10\n",
      "int64\n",
      "[1.33 1.25 1.5  1.42 1.58 1.67 1.83 2.   2.17 2.33]\n"
     ]
    }
   ],
   "source": [
    "lap_time_list = [80, 75, 90, 85, 95, 100, 110, 120, 130, 140]\n",
    "lap_time = np.array(lap_time_list)\n",
    "print(lap_time)\n",
    "print(lap_time.shape)\n",
    "print(lap_time.size)\n",
    "print(lap_time.dtype)\n",
    "\n",
    "time_in_minutes = lap_time/60\n",
    "print(np.round(time_in_minutes, 2))"
   ]
  }
 ],
 "metadata": {
  "kernelspec": {
   "display_name": "Python 3",
   "language": "python",
   "name": "python3"
  },
  "language_info": {
   "codemirror_mode": {
    "name": "ipython",
    "version": 3
   },
   "file_extension": ".py",
   "mimetype": "text/x-python",
   "name": "python",
   "nbconvert_exporter": "python",
   "pygments_lexer": "ipython3",
   "version": "3.13.7"
  }
 },
 "nbformat": 4,
 "nbformat_minor": 5
}
