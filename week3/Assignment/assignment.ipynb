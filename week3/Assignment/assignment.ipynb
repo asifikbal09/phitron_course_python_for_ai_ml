{
  "cells": [
    {
      "cell_type": "markdown",
      "metadata": {
        "id": "OgcCos_y4afY"
      },
      "source": [
        "## **Email address: asif.ikbal662@gmail.com**"
      ]
    },
    {
      "cell_type": "code",
      "execution_count": 14,
      "metadata": {
        "colab": {
          "base_uri": "https://localhost:8080/"
        },
        "id": "vDvUnQRm4WSm",
        "outputId": "07be8281-b101-4752-cc18-1b2f1a9537df"
      },
      "outputs": [
        {
          "name": "stdout",
          "output_type": "stream",
          "text": [
            "Sample Data Created and Saved as employees.csv\n"
          ]
        }
      ],
      "source": [
        "# You must run this code and use that data set for all the questions\n",
        "import numpy as np\n",
        "import pandas as pd\n",
        "\n",
        "np.random.seed(42)\n",
        "\n",
        "ids = np.arange(1, 11)\n",
        "ages = np.random.randint(18, 60, 10)\n",
        "salaries = np.random.randint(30000, 90000, 10)\n",
        "departments = np.array([\"HR\", \"IT\", \"Finance\", \"IT\", \"HR\", \"Sales\", \"Finance\", \"IT\", \"Sales\", \"HR\"])\n",
        "\n",
        "DF = pd.DataFrame({\n",
        "\"id\": ids,\n",
        "\"age\": ages,\n",
        "\"salary\": salaries,\n",
        "\"dept\": departments\n",
        "})\n",
        "\n",
        "DF.to_csv(\"employees.csv\", index=False)\n",
        "print(\"Sample Data Created and Saved as employees.csv\")\n"
      ]
    },
    {
      "cell_type": "markdown",
      "metadata": {
        "id": "-9ArQOlc43X5"
      },
      "source": [
        "# Numpy Quesionts"
      ]
    },
    {
      "cell_type": "markdown",
      "metadata": {
        "id": "cGP8WSd749Rs"
      },
      "source": [
        "### Answer to the Q1"
      ]
    },
    {
      "cell_type": "code",
      "execution_count": 15,
      "metadata": {
        "colab": {
          "base_uri": "https://localhost:8080/"
        },
        "id": "ZazHwdWH5EBx",
        "outputId": "a82a7b69-07a1-4cea-a623-7d3300596d14"
      },
      "outputs": [
        {
          "name": "stdout",
          "output_type": "stream",
          "text": [
            "[56 46 32 25 38 56 36 40 28 28]\n",
            "<class 'numpy.ndarray'>\n",
            "int64\n",
            "1\n",
            "(10,)\n",
            "10\n",
            "-------------------\n",
            "[77191 74131 46023 71090 31685 30769 89735 86101 32433 35311]\n",
            "<class 'numpy.ndarray'>\n",
            "int64\n",
            "1\n",
            "(10,)\n",
            "10\n"
          ]
        }
      ],
      "source": [
        "#Q1. Create NumPy arrays from the ages and salaries data generated above.\n",
        "#Print both arrays and display their dtype, ndim, shape, and size.\n",
        "# print(ages)\n",
        "# print(salaries)\n",
        "# print(type(ages))\n",
        "# print(type(salaries))\n",
        "ages_arr = np.array(ages)\n",
        "salaries_arr = np.array(salaries)\n",
        "\n",
        "print(ages_arr)\n",
        "print(type(ages_arr))\n",
        "print(ages_arr.dtype)\n",
        "print(ages_arr.ndim)\n",
        "print(ages_arr.shape)\n",
        "print(ages_arr.size)\n",
        "print(\"-------------------\")\n",
        "print(salaries_arr)\n",
        "print(type(salaries_arr))\n",
        "print(salaries_arr.dtype)\n",
        "print(salaries_arr.ndim)\n",
        "print(salaries_arr.shape)\n",
        "print(salaries_arr.size)\n"
      ]
    },
    {
      "cell_type": "markdown",
      "metadata": {
        "id": "rmeqPnKX8Yge"
      },
      "source": [
        "### Answer to the Q2"
      ]
    },
    {
      "cell_type": "code",
      "execution_count": 16,
      "metadata": {
        "colab": {
          "base_uri": "https://localhost:8080/"
        },
        "id": "Iiiw6r-H8g-J",
        "outputId": "66142529-1399-42c1-c02f-dd52cd39f86f"
      },
      "outputs": [
        {
          "name": "stdout",
          "output_type": "stream",
          "text": [
            "89735\n",
            "30769\n",
            "57446.9\n",
            "38.5\n"
          ]
        }
      ],
      "source": [
        "#Q2. Using the salaries array, find and print the highest and lowest salary values.\n",
        "#Also, calculate and print the average salary and age using NumPy functions.\n",
        "print(salaries.max())\n",
        "print(salaries.min())\n",
        "print(salaries.mean())\n",
        "print(ages.mean())\n",
        "#"
      ]
    },
    {
      "cell_type": "markdown",
      "metadata": {
        "id": "HnfwySW89aaj"
      },
      "source": [
        "### Answer to the Q3"
      ]
    },
    {
      "cell_type": "code",
      "execution_count": 17,
      "metadata": {
        "colab": {
          "base_uri": "https://localhost:8080/"
        },
        "id": "hjti9KWy9ZuE",
        "outputId": "2f6686b8-5ad2-4b07-9768-7ca527129fc7"
      },
      "outputs": [
        {
          "name": "stdout",
          "output_type": "stream",
          "text": [
            "[56 46 32 38 56 36 40]\n",
            "7\n"
          ]
        }
      ],
      "source": [
        "#Q3. From the ages array, filter and print all ages greater than 30 using a boolean condition.\n",
        "#Then count and print how many employees are older than 30.\n",
        "print(ages[ages>30])\n",
        "print(ages[ages>30].size)\n"
      ]
    },
    {
      "cell_type": "markdown",
      "metadata": {
        "id": "jmkna0U3_OlE"
      },
      "source": [
        "### Answer to the Q4"
      ]
    },
    {
      "cell_type": "code",
      "execution_count": 18,
      "metadata": {
        "colab": {
          "base_uri": "https://localhost:8080/"
        },
        "id": "JHU-zqdQ_T53",
        "outputId": "fea44324-8679-47c7-af33-203c1e64abe0"
      },
      "outputs": [
        {
          "name": "stdout",
          "output_type": "stream",
          "text": [
            "[61 51 37 30 43 61 41 45 33 33]\n"
          ]
        }
      ],
      "source": [
        "#Q4. Create a new NumPy array that increases every employee’s age by 5 years (without modifying the original array).\n",
        "#Print the new updated ages array.\n",
        "ages_five_plus = ages + 5\n",
        "\n",
        "# print(ages)\n",
        "print(ages_five_plus)"
      ]
    },
    {
      "cell_type": "markdown",
      "metadata": {
        "id": "bycHbeFW_o8q"
      },
      "source": [
        "### Answer to the Q5"
      ]
    },
    {
      "cell_type": "code",
      "execution_count": 19,
      "metadata": {
        "colab": {
          "base_uri": "https://localhost:8080/"
        },
        "id": "5sqCZp5e_tp7",
        "outputId": "ff5973fc-b7e6-4367-d754-4e8beba8f2d2"
      },
      "outputs": [
        {
          "name": "stdout",
          "output_type": "stream",
          "text": [
            "574469\n",
            "58966\n"
          ]
        }
      ],
      "source": [
        "#Q5. Using NumPy,\n",
        "#calculate the total salary expense (sum of all salaries) and the difference between the maximum and minimum salary.\n",
        "#Print both results.\n",
        "total_salary = salaries.sum()\n",
        "highest_salary = salaries.max()\n",
        "lowest_salary = salaries.min()\n",
        "salaries_diff = highest_salary - lowest_salary\n",
        "print(total_salary)\n",
        "print(salaries_diff)"
      ]
    },
    {
      "cell_type": "markdown",
      "metadata": {
        "id": "4voPkcJLAo9o"
      },
      "source": [
        "# Pandas Question Problem"
      ]
    },
    {
      "cell_type": "markdown",
      "metadata": {
        "id": "KAmKTjrxAzk_"
      },
      "source": [
        "### Answer to the Q6"
      ]
    },
    {
      "cell_type": "code",
      "execution_count": 20,
      "metadata": {
        "colab": {
          "base_uri": "https://localhost:8080/",
          "height": 629
        },
        "id": "d56aXKXtAyWH",
        "outputId": "ee5ad811-b087-483e-caaf-619c7e84e952"
      },
      "outputs": [
        {
          "name": "stdout",
          "output_type": "stream",
          "text": [
            "   id  age  salary     dept\n",
            "0   1   56   77191       HR\n",
            "1   2   46   74131       IT\n",
            "2   3   32   46023  Finance\n",
            "3   4   25   71090       IT\n",
            "4   5   38   31685       HR\n",
            "<class 'pandas.core.frame.DataFrame'>\n",
            "RangeIndex: 10 entries, 0 to 9\n",
            "Data columns (total 4 columns):\n",
            " #   Column  Non-Null Count  Dtype \n",
            "---  ------  --------------  ----- \n",
            " 0   id      10 non-null     int64 \n",
            " 1   age     10 non-null     int64 \n",
            " 2   salary  10 non-null     int64 \n",
            " 3   dept    10 non-null     object\n",
            "dtypes: int64(3), object(1)\n",
            "memory usage: 452.0+ bytes\n"
          ]
        },
        {
          "data": {
            "text/html": [
              "<div>\n",
              "<style scoped>\n",
              "    .dataframe tbody tr th:only-of-type {\n",
              "        vertical-align: middle;\n",
              "    }\n",
              "\n",
              "    .dataframe tbody tr th {\n",
              "        vertical-align: top;\n",
              "    }\n",
              "\n",
              "    .dataframe thead th {\n",
              "        text-align: right;\n",
              "    }\n",
              "</style>\n",
              "<table border=\"1\" class=\"dataframe\">\n",
              "  <thead>\n",
              "    <tr style=\"text-align: right;\">\n",
              "      <th></th>\n",
              "      <th>id</th>\n",
              "      <th>age</th>\n",
              "      <th>salary</th>\n",
              "    </tr>\n",
              "  </thead>\n",
              "  <tbody>\n",
              "    <tr>\n",
              "      <th>count</th>\n",
              "      <td>10.00000</td>\n",
              "      <td>10.00000</td>\n",
              "      <td>10.000000</td>\n",
              "    </tr>\n",
              "    <tr>\n",
              "      <th>mean</th>\n",
              "      <td>5.50000</td>\n",
              "      <td>38.50000</td>\n",
              "      <td>57446.900000</td>\n",
              "    </tr>\n",
              "    <tr>\n",
              "      <th>std</th>\n",
              "      <td>3.02765</td>\n",
              "      <td>11.16791</td>\n",
              "      <td>24357.262884</td>\n",
              "    </tr>\n",
              "    <tr>\n",
              "      <th>min</th>\n",
              "      <td>1.00000</td>\n",
              "      <td>25.00000</td>\n",
              "      <td>30769.000000</td>\n",
              "    </tr>\n",
              "    <tr>\n",
              "      <th>25%</th>\n",
              "      <td>3.25000</td>\n",
              "      <td>29.00000</td>\n",
              "      <td>33152.500000</td>\n",
              "    </tr>\n",
              "    <tr>\n",
              "      <th>50%</th>\n",
              "      <td>5.50000</td>\n",
              "      <td>37.00000</td>\n",
              "      <td>58556.500000</td>\n",
              "    </tr>\n",
              "    <tr>\n",
              "      <th>75%</th>\n",
              "      <td>7.75000</td>\n",
              "      <td>44.50000</td>\n",
              "      <td>76426.000000</td>\n",
              "    </tr>\n",
              "    <tr>\n",
              "      <th>max</th>\n",
              "      <td>10.00000</td>\n",
              "      <td>56.00000</td>\n",
              "      <td>89735.000000</td>\n",
              "    </tr>\n",
              "  </tbody>\n",
              "</table>\n",
              "</div>"
            ],
            "text/plain": [
              "             id       age        salary\n",
              "count  10.00000  10.00000     10.000000\n",
              "mean    5.50000  38.50000  57446.900000\n",
              "std     3.02765  11.16791  24357.262884\n",
              "min     1.00000  25.00000  30769.000000\n",
              "25%     3.25000  29.00000  33152.500000\n",
              "50%     5.50000  37.00000  58556.500000\n",
              "75%     7.75000  44.50000  76426.000000\n",
              "max    10.00000  56.00000  89735.000000"
            ]
          },
          "execution_count": 20,
          "metadata": {},
          "output_type": "execute_result"
        }
      ],
      "source": [
        "#Q6. Load the employees.csv file into a Pandas DataFrame.\n",
        "#Display the first 5 rows, and check basic info using info() and summary statistics using describe().\n",
        "df = pd.read_csv(\"./employees.csv\")\n",
        "print(df.head())\n",
        "\n",
        "df.info()\n",
        "\n",
        "df.describe()"
      ]
    },
    {
      "cell_type": "markdown",
      "metadata": {
        "id": "3Hta2VjYBxTz"
      },
      "source": [
        "### Answer to the Q7"
      ]
    },
    {
      "cell_type": "code",
      "execution_count": 21,
      "metadata": {
        "colab": {
          "base_uri": "https://localhost:8080/"
        },
        "id": "XO4WnqeQB4-b",
        "outputId": "e7d3bd53-5151-4804-c721-af5583b29eaf"
      },
      "outputs": [
        {
          "name": "stdout",
          "output_type": "stream",
          "text": [
            "   id  age  salary\n",
            "0   1   56   77191\n",
            "1   2   46   74131\n",
            "2   3   32   46023\n",
            "3   4   25   71090\n",
            "4   5   38   31685\n",
            "5   6   56   30769\n",
            "6   7   36   89735\n",
            "7   8   40   86101\n",
            "8   9   28   32433\n",
            "9  10   28   35311\n",
            "--------------\n",
            "   id  age  salary   dept\n",
            "7   8   40   86101     IT\n",
            "8   9   28   32433  Sales\n",
            "9  10   28   35311     HR\n"
          ]
        }
      ],
      "source": [
        "#Q7. Display only the id, age, and salary columns. Then show the last 3 rows using tail().\n",
        "print(df[[\"id\",\"age\",\"salary\"]])\n",
        "print(\"--------------\")\n",
        "print(df.tail(3))\n"
      ]
    },
    {
      "cell_type": "markdown",
      "metadata": {
        "id": "CRUlDAkUC1XS"
      },
      "source": [
        "### Answer to the Q8"
      ]
    },
    {
      "cell_type": "code",
      "execution_count": 22,
      "metadata": {
        "colab": {
          "base_uri": "https://localhost:8080/"
        },
        "id": "V-MC6ff7DKgX",
        "outputId": "b5d480d3-a531-4ca1-f5ef-76eb69a8df26"
      },
      "outputs": [
        {
          "name": "stdout",
          "output_type": "stream",
          "text": [
            "   id  age  salary dept\n",
            "1   2   46   74131   IT\n",
            "3   4   25   71090   IT\n",
            "7   8   40   86101   IT\n",
            "the total number of IT department employees is  3\n"
          ]
        }
      ],
      "source": [
        "#Q8. Filter the DataFrame to show only employees who work in the IT department.\n",
        "#Print the result and show the total number of IT employees.\n",
        "it_dept = df[df[\"dept\"]==\"IT\"]\n",
        "print(it_dept)\n",
        "print(\"the total number of IT department employees is \",len(it_dept.index))\n"
      ]
    },
    {
      "cell_type": "markdown",
      "metadata": {
        "id": "VhLpTCM5DDIw"
      },
      "source": [
        "### Answer to the Q9"
      ]
    },
    {
      "cell_type": "code",
      "execution_count": 23,
      "metadata": {
        "colab": {
          "base_uri": "https://localhost:8080/"
        },
        "id": "Lb9gnXMQDX-S",
        "outputId": "7d7a437e-695c-422f-e03b-c29bb5e0aca9"
      },
      "outputs": [
        {
          "name": "stdout",
          "output_type": "stream",
          "text": [
            "   id  age  salary     dept\n",
            "6   7   36   89735  Finance\n",
            "7   8   40   86101       IT\n",
            "0   1   56   77191       HR\n"
          ]
        }
      ],
      "source": [
        "#Q9. Sort the DataFrame by salary in descending order and\n",
        "#display the top 3 highest-paid employees along with their department and age.\n",
        "sorted_df = df.sort_values(\"salary\",ascending=False)\n",
        "print(sorted_df.head(3))"
      ]
    },
    {
      "cell_type": "markdown",
      "metadata": {
        "id": "bW8A8G2FDDel"
      },
      "source": [
        "### Answer to the Q10"
      ]
    },
    {
      "cell_type": "code",
      "execution_count": 24,
      "metadata": {
        "colab": {
          "base_uri": "https://localhost:8080/"
        },
        "id": "w9_yGSO-DZsL",
        "outputId": "4cd73251-39ee-4f0e-a58b-238f4cfd1188"
      },
      "outputs": [
        {
          "name": "stdout",
          "output_type": "stream",
          "text": [
            "55863.3\n"
          ]
        }
      ],
      "source": [
        "#Q10. Replace all salary values greater than 80000 with 80000 using loc.\n",
        "#Then calculate and print the new average salary of all employees after replacement.\n",
        "df.loc[df[\"salary\"]>80000,\"salary\"] = 80000\n",
        "print(df[\"salary\"].mean())\n",
        "#"
      ]
    }
  ],
  "metadata": {
    "colab": {
      "provenance": []
    },
    "kernelspec": {
      "display_name": "Python 3",
      "name": "python3"
    },
    "language_info": {
      "codemirror_mode": {
        "name": "ipython",
        "version": 3
      },
      "file_extension": ".py",
      "mimetype": "text/x-python",
      "name": "python",
      "nbconvert_exporter": "python",
      "pygments_lexer": "ipython3",
      "version": "3.13.7"
    }
  },
  "nbformat": 4,
  "nbformat_minor": 0
}
