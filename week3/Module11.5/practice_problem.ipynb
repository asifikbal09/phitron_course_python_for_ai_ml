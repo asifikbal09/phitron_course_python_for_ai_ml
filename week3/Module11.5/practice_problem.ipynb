{
 "cells": [
  {
   "cell_type": "markdown",
   "id": "41bd07b5",
   "metadata": {},
   "source": [
    "<img src=\"./problem1.png\">"
   ]
  },
  {
   "cell_type": "code",
   "execution_count": 2,
   "id": "95e23686",
   "metadata": {},
   "outputs": [
    {
     "name": "stdout",
     "output_type": "stream",
     "text": [
      "[5 3 5 2 8 1 9 3 4 7]\n",
      "(10,)\n",
      "10\n",
      "int64\n",
      "1\n",
      "[[5 3 5 2 8]\n",
      " [1 9 3 4 7]]\n",
      "(2, 5)\n",
      "10\n",
      "int64\n",
      "2\n",
      "[[[5 3 5]\n",
      "  [2 8 1]]\n",
      "\n",
      " [[9 3 4]\n",
      "  [7 6 2]]]\n",
      "(2, 2, 3)\n",
      "12\n",
      "int64\n",
      "3\n"
     ]
    }
   ],
   "source": [
    "import numpy as np\n",
    "list_1D = [5,3,5,2,8,1,9,3,4,7]\n",
    "array_1D = np.array(list_1D)\n",
    "print(array_1D)\n",
    "print(array_1D.shape)\n",
    "print(array_1D.size)\n",
    "print(array_1D.dtype)\n",
    "print(array_1D.ndim)\n",
    "\n",
    "list_2D = [[5,3,5,2,8],[1,9,3,4,7]]\n",
    "array_2D =  np.array(list_2D)\n",
    "print(array_2D)\n",
    "print(array_2D.shape)\n",
    "print(array_2D.size)\n",
    "print(array_2D.dtype)\n",
    "print(array_2D.ndim)\n",
    "\n",
    "list_3D = [[[5,3,5],[2,8,1]],[[9,3,4],[7,6,2]]]\n",
    "array_3D = np.array(list_3D)\n",
    "print(array_3D)\n",
    "print(array_3D.shape)\n",
    "print(array_3D.size)\n",
    "print(array_3D.dtype)\n",
    "print(array_3D.ndim)    "
   ]
  },
  {
   "cell_type": "markdown",
   "id": "47b72601",
   "metadata": {},
   "source": [
    "<img src=\"./problem2.png\">"
   ]
  },
  {
   "cell_type": "code",
   "execution_count": 3,
   "id": "6f6070ac",
   "metadata": {},
   "outputs": [
    {
     "name": "stdout",
     "output_type": "stream",
     "text": [
      "[[0. 0. 0.]\n",
      " [0. 0. 0.]\n",
      " [0. 0. 0.]]\n",
      "(3, 3)\n",
      "9\n",
      "float64\n",
      "2\n",
      "[[1. 1. 1. 1. 1.]\n",
      " [1. 1. 1. 1. 1.]]\n",
      "(2, 5)\n",
      "10\n",
      "float64\n",
      "2\n",
      "[[7 7 7 7]\n",
      " [7 7 7 7]\n",
      " [7 7 7 7]\n",
      " [7 7 7 7]]\n",
      "(4, 4)\n",
      "16\n",
      "int64\n",
      "2\n"
     ]
    }
   ],
   "source": [
    "array_of_zeros = np.zeros((3,3))\n",
    "print(array_of_zeros)\n",
    "print(array_of_zeros.shape)\n",
    "print(array_of_zeros.size)\n",
    "print(array_of_zeros.dtype)\n",
    "print(array_of_zeros.ndim)\n",
    "array_of_ones = np.ones((2,5))\n",
    "print(array_of_ones)\n",
    "print(array_of_ones.shape)\n",
    "print(array_of_ones.size)\n",
    "print(array_of_ones.dtype)\n",
    "print(array_of_ones.ndim)   \n",
    "array_of_seven = np.full((4,4),7)\n",
    "print(array_of_seven)\n",
    "print(array_of_seven.shape)\n",
    "print(array_of_seven.size)\n",
    "print(array_of_seven.dtype)\n",
    "print(array_of_seven.ndim)"
   ]
  },
  {
   "cell_type": "markdown",
   "id": "bd4f0e05",
   "metadata": {},
   "source": [
    "<img src=\"./problem3.png\">"
   ]
  },
  {
   "cell_type": "code",
   "execution_count": 4,
   "id": "7602e3aa",
   "metadata": {},
   "outputs": [
    {
     "name": "stdout",
     "output_type": "stream",
     "text": [
      "[10 12 14 16 18 20 22 24 26 28 30 32 34 36 38 40 42 44 46 48]\n",
      "(20,)\n",
      "20\n",
      "int64\n",
      "1\n"
     ]
    }
   ],
   "source": [
    "even_num_array = np.arange(10,50,2)\n",
    "print(even_num_array)\n",
    "print(even_num_array.shape)\n",
    "print(even_num_array.size)\n",
    "print(even_num_array.dtype)\n",
    "print(even_num_array.ndim)\n"
   ]
  },
  {
   "cell_type": "markdown",
   "id": "a71e2a0b",
   "metadata": {},
   "source": [
    "<img src=\"./problem4.png\">"
   ]
  },
  {
   "cell_type": "code",
   "execution_count": 7,
   "id": "18ff8348",
   "metadata": {},
   "outputs": [
    {
     "name": "stdout",
     "output_type": "stream",
     "text": [
      "[[ 0.  1.  2.  3.]\n",
      " [ 4.  5.  6.  7.]\n",
      " [ 8.  9. 10. 11.]\n",
      " [12. 13. 14. 15.]]\n",
      "First Row: [0. 1. 2. 3.]\n",
      "Last Column: [ 3.  7. 11. 15.]\n",
      "Sub Matrix:\n",
      " [[ 5.  6.]\n",
      " [ 9. 10.]]\n"
     ]
    }
   ],
   "source": [
    "mat = np.linspace(0,15,16).reshape(4,4)\n",
    "print(mat)\n",
    "first_row = mat[0,:]\n",
    "print(\"First Row:\",first_row)\n",
    "last_column = mat[:,3]\n",
    "print(\"Last Column:\",last_column)\n",
    "sub_matrix = mat[1:3,1:3]\n",
    "print(\"Sub Matrix:\\n\",sub_matrix)"
   ]
  },
  {
   "cell_type": "markdown",
   "id": "dadb345b",
   "metadata": {},
   "source": [
    "<img src=\"./problem5.png\">"
   ]
  },
  {
   "cell_type": "code",
   "execution_count": 9,
   "id": "fb24c205",
   "metadata": {},
   "outputs": [
    {
     "name": "stdout",
     "output_type": "stream",
     "text": [
      "[[1. 2. 3.]\n",
      " [4. 5. 6.]\n",
      " [7. 8. 9.]]\n",
      "[[ 2.  4.  6.]\n",
      " [ 5.  7.  9.]\n",
      " [ 8. 10. 12.]]\n"
     ]
    }
   ],
   "source": [
    "lst = [1,2,3]\n",
    "arr = np.array(lst)\n",
    "\n",
    "mat = np.linspace(1,9,9).reshape(3,3)\n",
    "print(mat)\n",
    "\n",
    "sum_mat = mat+arr\n",
    "print(sum_mat)"
   ]
  },
  {
   "cell_type": "markdown",
   "id": "fee68ebd",
   "metadata": {},
   "source": [
    "<img src=\"./problem6.png\">"
   ]
  },
  {
   "cell_type": "code",
   "execution_count": 22,
   "id": "992ba2a4",
   "metadata": {},
   "outputs": [
    {
     "name": "stdout",
     "output_type": "stream",
     "text": [
      "[6 4 7 6 4 9 6]\n",
      "[9 1 8 6 9 5 6]\n",
      "Equation 1 Result: [7.5 2.5 7.5 6.  6.5 7.  6. ]\n",
      "Equation 2 Result: [117  17 113  72  97 106  72]\n"
     ]
    }
   ],
   "source": [
    "A = np.random.randint(1,10,size=(7))\n",
    "B = np.random.randint(1,10,size=(7))\n",
    "print(A)\n",
    "print(B)\n",
    "equ1 = (A+B)/2\n",
    "equ2 = A**2 + B**2\n",
    "print(\"Equation 1 Result:\",equ1)\n",
    "print(\"Equation 2 Result:\",equ2)"
   ]
  }
 ],
 "metadata": {
  "kernelspec": {
   "display_name": "Python 3",
   "language": "python",
   "name": "python3"
  },
  "language_info": {
   "codemirror_mode": {
    "name": "ipython",
    "version": 3
   },
   "file_extension": ".py",
   "mimetype": "text/x-python",
   "name": "python",
   "nbconvert_exporter": "python",
   "pygments_lexer": "ipython3",
   "version": "3.13.7"
  }
 },
 "nbformat": 4,
 "nbformat_minor": 5
}
